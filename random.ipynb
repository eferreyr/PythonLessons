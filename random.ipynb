{
 "cells": [
  {
   "cell_type": "code",
   "execution_count": 2,
   "metadata": {},
   "outputs": [
    {
     "name": "stdout",
     "output_type": "stream",
     "text": [
      "3\n"
     ]
    }
   ],
   "source": [
    "import random\n",
    "\n",
    "#picks a random integer between 1 and 6 inclusive\n",
    "dice1 = random.randint(1,6)\n",
    "print(dice1)"
   ]
  },
  {
   "cell_type": "code",
   "execution_count": 12,
   "metadata": {},
   "outputs": [
    {
     "name": "stdout",
     "output_type": "stream",
     "text": [
      "3\n"
     ]
    }
   ],
   "source": [
    "#randomly chooses from a given list\n",
    "sides = [1,2,3,4,5,6]\n",
    "dice2 = random.choice(sides)\n",
    "print(dice2)"
   ]
  },
  {
   "cell_type": "code",
   "execution_count": 3,
   "metadata": {},
   "outputs": [
    {
     "name": "stdout",
     "output_type": "stream",
     "text": [
      "Reply hazy, try again.\n"
     ]
    }
   ],
   "source": [
    " magic8 = [\"As I see it, yes.\", \"Ask again later.\", \"Better not tell you now.\", \"Cannot predict now.\", \n",
    "           \"Concentrate and ask again.\", \"Don’t count on it.\", \"It is certain.\", \"It is decidedly so.\",\n",
    "           \"Most likely.\", \"My reply is no.\", \"My sources say no.\", \"Outlook not so good.\", \"Outlook good.\",\n",
    "           \"Reply hazy, try again.\", \"Signs point to yes.\", \"Very doubtful.\", \"Without a doubt.\", \"Yes.\",\n",
    "           \"Yes – definitely.\", \"You may rely on it.\"]\n",
    "\n",
    "#a magic 8 ball has 20 side and 20 responses. \n",
    "#we can simulate a magic 8 ball by using random choice\n",
    "print(random.choice(magic8))"
   ]
  },
  {
   "cell_type": "code",
   "execution_count": 11,
   "metadata": {},
   "outputs": [
    {
     "name": "stdout",
     "output_type": "stream",
     "text": [
      "It is decidedly so.\n"
     ]
    }
   ],
   "source": [
    " magic8 = [\"As I see it, yes.\", \"Ask again later.\", \"Better not tell you now.\", \"Cannot predict now.\", \n",
    "           \"Concentrate and ask again.\", \"Don’t count on it.\", \"It is certain.\", \"It is decidedly so.\",\n",
    "           \"Most likely.\", \"My reply is no.\", \"My sources say no.\", \"Outlook not so good.\", \"Outlook good.\",\n",
    "           \"Reply hazy, try again.\", \"Signs point to yes.\", \"Very doubtful.\", \"Without a doubt.\", \"Yes.\",\n",
    "           \"Yes – definitely.\", \"You may rely on it.\"]\n",
    "\n",
    "#a magic 8 ball has 20 side and 20 responses. \n",
    "#we can also simulate a magic 8 ball by using randint because each element in the list has an index\n",
    "#that can be randomly chosen with randint\n",
    "print(magic8[random.randint(0,19)])"
   ]
  },
  {
   "cell_type": "code",
   "execution_count": null,
   "metadata": {},
   "outputs": [],
   "source": []
  }
 ],
 "metadata": {
  "kernelspec": {
   "display_name": "Python 3",
   "language": "python",
   "name": "python3"
  },
  "language_info": {
   "codemirror_mode": {
    "name": "ipython",
    "version": 3
   },
   "file_extension": ".py",
   "mimetype": "text/x-python",
   "name": "python",
   "nbconvert_exporter": "python",
   "pygments_lexer": "ipython3",
   "version": "3.7.6"
  }
 },
 "nbformat": 4,
 "nbformat_minor": 4
}

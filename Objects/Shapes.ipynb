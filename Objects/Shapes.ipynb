{
 "cells": [
  {
   "cell_type": "code",
   "execution_count": 6,
   "metadata": {},
   "outputs": [],
   "source": [
    "class Triangle:\n",
    "    #like with other functions, the names of the variables passed as arguments don't have to match \n",
    "    #the name of the attributes of the object, you really are just setting the value of one variable\n",
    "    #equal to the value of another variable so the names don't have to match\n",
    "    def __init__(self,s1,s2,s3): #assume that entered values form a valid triangle\n",
    "        self.side1 = s1\n",
    "        self.side2 = s2\n",
    "        self.side3 = s3\n",
    "    \n",
    "    #calculates and returns perimeter of triangle by adding the given three sides together\n",
    "    def calcPerimeter(self):\n",
    "        perimeter = self.side1 + self.side2 + self.side3\n",
    "        return perimeter\n",
    "    \n",
    "    #since we don't have height and width, we can't calculate the area of the triangle like that\n",
    "    #instead, we can use hero's theorem that allows us to calculate the area of the triangle with its three sides\n",
    "    #given a, b, and c correspond with side1, side2, and side3\n",
    "    #and p is equal to half of the triangle's perimeter or (a+b+c)/2\n",
    "    #the hero's theorem says that the area of the triangle is \n",
    "    #the square root of p*(p-a)*(p-b)*(p-c)\n",
    "    def calcArea(self):\n",
    "        #since i already have a method that calculates perimeter for me, i don't have to repeat that code\n",
    "        #i just have to divide whatever the method returns by 2 to get p\n",
    "        p = self.calcPerimeter() / 2\n",
    "        \n",
    "        #then I just calculate the rest\n",
    "        area = (p*(p-self.side1)*(p-self.side2)*(p-self.side3))**0.5\n",
    "        \n",
    "        return area"
   ]
  },
  {
   "cell_type": "code",
   "execution_count": 2,
   "metadata": {},
   "outputs": [],
   "source": [
    "class Square:\n",
    "    #squares have equal length sides so I only need to know the length of one to know them all\n",
    "    def __init__(self,side):\n",
    "        self.side = side\n",
    "        \n",
    "    #calculates and returns perimeter of square by multiplying the given side by four\n",
    "    def calcPerimeter(self):\n",
    "        perimeter = self.side * 4\n",
    "        return perimeter\n",
    "    \n",
    "    #calculates and returns area of square by multiplying the given side by itself\n",
    "    def calcArea(self):\n",
    "        area = self.side**2\n",
    "        return area\n",
    "    "
   ]
  },
  {
   "cell_type": "code",
   "execution_count": 8,
   "metadata": {},
   "outputs": [
    {
     "name": "stdout",
     "output_type": "stream",
     "text": [
      "square perimeter:  20\n",
      "square area:  25\n",
      "triangle perimeter:  12\n",
      "triangle area:  6.0\n"
     ]
    }
   ],
   "source": [
    "#we already know that function names like __init__() and __str__() are universal \n",
    "#and are used in a bunch of different class definitions\n",
    "#but as you can see above, between Square and Triangle we have two methods that have the same name: calcPerimeter\n",
    "#that have two very different ways of accomplishing that. \n",
    "#the same is the case with the two methods called calcArea\n",
    "\n",
    "#having methods that are called the same thing, but have different instructions inside is called POLYMORPHISM\n",
    "#\"poly\" means multiple and \"morph\" means shape\n",
    "#together, it means that multiple different things, shapes, forms are called the same thing\n",
    "#we call these methods the same things because they accomplish the same goal\n",
    "#but depending on the objects' needs, carrying out that goal looks differently\n",
    "#like how calculating the area of a square and a triangle require two very different processes\n",
    "#we don't want to calculate the area of the square using the instructions given under triangle\n",
    "#so how do we differentiate? lets first create Square and Triangle objects\n",
    "s = Square(5)\n",
    "t = Triangle(3,4,5)\n",
    "\n",
    "#then we write the name of the object we want to calculate the perimeter of\n",
    "#which is called s and we already know is of type Square\n",
    "#then we add a dot, and then call the calcPerimeter() function\n",
    "print(\"square perimeter: \", s.calcPerimeter())\n",
    "print(\"square area: \", s.calcArea())\n",
    "print(\"triangle perimeter: \", t.calcPerimeter())\n",
    "print(\"triangle area: \", t.calcArea())"
   ]
  }
 ],
 "metadata": {
  "kernelspec": {
   "display_name": "Python 3",
   "language": "python",
   "name": "python3"
  },
  "language_info": {
   "codemirror_mode": {
    "name": "ipython",
    "version": 3
   },
   "file_extension": ".py",
   "mimetype": "text/x-python",
   "name": "python",
   "nbconvert_exporter": "python",
   "pygments_lexer": "ipython3",
   "version": "3.7.6"
  }
 },
 "nbformat": 4,
 "nbformat_minor": 4
}

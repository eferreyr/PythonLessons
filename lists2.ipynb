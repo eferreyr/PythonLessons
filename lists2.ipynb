{
 "cells": [
  {
   "cell_type": "code",
   "execution_count": 2,
   "metadata": {},
   "outputs": [
    {
     "name": "stdout",
     "output_type": "stream",
     "text": [
      "('red', 'blue', 'green')\n",
      "True\n",
      "1\n",
      "green\n"
     ]
    }
   ],
   "source": [
    "colors=(\"red\",\"blue\",\"green\") #this is a tuple, it's immutable\n",
    "print(colors)\n",
    "\n",
    "#things like sort, reverse, del, remove, pop, insert, etc don't work on it\n",
    "#colors.sort()\n",
    "#color.reverse()\n",
    "\n",
    "#but things like index, checking if something is in the tuple, or retrieving a value in\n",
    "#the tuple work because it's not changing it\n",
    "print(\"red\" in colors)\n",
    "print(colors.index(\"blue\"))\n",
    "print(colors[2])"
   ]
  },
  {
   "cell_type": "code",
   "execution_count": 3,
   "metadata": {},
   "outputs": [
    {
     "name": "stdout",
     "output_type": "stream",
     "text": [
      "[[55, 63, 77, 81], [65, 61, 67, 72], [97, 95, 92, 88]]\n",
      "\n",
      "[55, 63, 77, 81]\n",
      "[65, 61, 67, 72]\n",
      "[97, 95, 92, 88]\n",
      "\n",
      "[65, 61, 67, 72]\n",
      "\n",
      "67\n",
      "67\n",
      "\n",
      "55\n",
      "63\n",
      "77\n",
      "81\n",
      "65\n",
      "61\n",
      "67\n",
      "72\n",
      "97\n",
      "95\n",
      "92\n",
      "88\n"
     ]
    }
   ],
   "source": [
    "#2d lists or lists within lists\n",
    "tomsGrades = [55,63,77,81]\n",
    "samsGrades = [65,61,67,72]\n",
    "suesGrades = [97,95,92,88]\n",
    "classGrades = [tomsGrades,samsGrades,suesGrades]\n",
    "\n",
    "#this looks more like regular list form in coding\n",
    "print(classGrades)\n",
    "print()\n",
    "\n",
    "#this looks more like the table form\n",
    "for i in classGrades:\n",
    "    print(i)\n",
    "print()\n",
    "\n",
    "#print second list in classGrades, samsGrades\n",
    "print(classGrades[1])\n",
    "print()\n",
    "\n",
    "#print 3rd element of second list of classGrades\n",
    "print(samsGrades[2])\n",
    "print(classGrades[1][2])\n",
    "print()\n",
    "\n",
    "#access every value one by one with a nested for loop\n",
    "for i in classGrades:\n",
    "    for j in i:\n",
    "        print(j)"
   ]
  },
  {
   "cell_type": "code",
   "execution_count": 16,
   "metadata": {},
   "outputs": [
    {
     "name": "stdout",
     "output_type": "stream",
     "text": [
      "{'Gertrude': 1234567890, 'Jeremy': 3334445555, 'Elijah': 2143201122}\n",
      "\n",
      "{'print()': 'turns given values into String form and displays it', 'str()': 'turns given values into String form', 'int()': 'turns given Strings of integers into integers and cuts decimals of given floats off', 'float()': 'turns given Strings of floats into floats and adds decimals to given integers'}\n",
      "\n",
      "turns given values into String form\n",
      "\n"
     ]
    }
   ],
   "source": [
    "#DICTIONARIES\n",
    "#You know how to look up a word in a dictionary and once you find the word, there's the definition?\n",
    "#Dictionaries in python are similar, where the \"word\" is a \"key\" and the \"definition\" is a \"value\"\n",
    "#the key and the value are linked and you look up the value by looking up the key\n",
    "\n",
    "#phone book\n",
    "#names of your friends are the keys and the values are their phone numbers\n",
    "#initialize an empty dictionary cuz you have no friends\n",
    "phonebook = {} #use curly brackets\n",
    "\n",
    "#add to the dictionary by putting the key name where you would normally put the index\n",
    "#and set it equal to the value you want it to be linked to \n",
    "phonebook[\"Gertrude\"] = 1234567890 \n",
    "phonebook[\"Jeremy\"] = 3334445555\n",
    "phonebook[\"Elijah\"] = 2143201122\n",
    "\n",
    "#what will this look like?\n",
    "#note how related keys and values are connected with a colon and \n",
    "#key/value pairs inside the dictionary are separated by commas\n",
    "#and the whole dictionary is encased by curly brackets\n",
    "print(phonebook)\n",
    "print()\n",
    "\n",
    "#lets make a dictionary of reserved word definitions\n",
    "#but we'll put in several values at once\n",
    "#we do this by following the format shown when we printed the phonebook dictionary above\n",
    "reservedWords = {\"print()\":\"turns given values into String form and displays it\",\n",
    "              \"str()\":\"turns given values into String form\",\n",
    "              \"int()\":\"turns given Strings of integers into integers and cuts decimals of given floats off\",\n",
    "              \"float()\":\"turns given Strings of floats into floats and adds decimals to given integers\"}\n",
    "print(reservedWords)\n",
    "print()\n",
    "\n",
    "#extract info from a dictionary like you would from a list\n",
    "#but instead of putting an index number in the [], put the key name\n",
    "print(reservedWords[\"str()\"])\n",
    "print()"
   ]
  },
  {
   "cell_type": "code",
   "execution_count": 13,
   "metadata": {},
   "outputs": [
    {
     "name": "stdout",
     "output_type": "stream",
     "text": [
      "dict_keys(['print()', 'str()', 'int()', 'float()'])\n",
      "['print()', 'str()', 'int()', 'float()']\n",
      "\n",
      "dict_values([1234567890, 3334445555, 2143201122])\n",
      "[1234567890, 3334445555, 2143201122]\n",
      "\n"
     ]
    }
   ],
   "source": [
    "#print the keys of a dictionary using .keys()\n",
    "#output looks like a list but isn't\n",
    "print(reservedWords.keys())\n",
    "print(list(reservedWords.keys())) #if you want to turn it into a list, put it in list()\n",
    "print()\n",
    "\n",
    "#print the values of a dictionary using .values()\n",
    "print(phonebook.values())\n",
    "print(list(phonebook.values())) #same with values\n",
    "print()"
   ]
  },
  {
   "cell_type": "code",
   "execution_count": 14,
   "metadata": {},
   "outputs": [
    {
     "name": "stdout",
     "output_type": "stream",
     "text": [
      "{True: 'I tell no lies', False: \"White lies can't hurt\"}\n"
     ]
    }
   ],
   "source": [
    "truthValues = {True:\"I tell no lies\", False:\"White lies can't hurt\"}\n",
    "\n",
    "print(truthValues)"
   ]
  },
  {
   "cell_type": "code",
   "execution_count": 15,
   "metadata": {},
   "outputs": [
    {
     "name": "stdout",
     "output_type": "stream",
     "text": [
      "Elijah 2143201122\n",
      "Gertrude 1234567890\n",
      "Jeremy 3334445555\n"
     ]
    }
   ],
   "source": [
    "#you can't sort a dictionary like you would a regular list\n",
    "#but you can use a for loop to iterate through the dictionary in a sorted order\n",
    "#make i equal to the sorted list of phonebook keys\n",
    "for i in sorted(phonebook.keys()):\n",
    "    #print the key and then the value\n",
    "    print(i, phonebook[i])"
   ]
  },
  {
   "cell_type": "code",
   "execution_count": 10,
   "metadata": {},
   "outputs": [
    {
     "name": "stdout",
     "output_type": "stream",
     "text": [
      "Gertrude 1234567890\n",
      "Elijah 2143201122\n",
      "Jeremy 3334445555\n"
     ]
    }
   ],
   "source": [
    "#to sort by value, it's a little more complicated\n",
    "#first, make i iterate through a list of sorted values\n",
    "for i in sorted(phonebook.values()):\n",
    "    #but because we can only find values by looking up keys,\n",
    "    #we have to iterate through the keys, checking which key is linked to the value we want to print next\n",
    "    for j in phonebook.keys():\n",
    "        if(i == phonebook[j]):\n",
    "            print(j, i)"
   ]
  },
  {
   "cell_type": "code",
   "execution_count": 17,
   "metadata": {},
   "outputs": [
    {
     "name": "stdout",
     "output_type": "stream",
     "text": [
      "{'Gertrude': 1234567890, 'Jeremy': 3334445555, 'Elijah': 2143201122}\n"
     ]
    }
   ],
   "source": [
    "#delete\n",
    "#del phonebook[\"Jeremy\"]\n",
    "print(phonebook)"
   ]
  },
  {
   "cell_type": "code",
   "execution_count": 18,
   "metadata": {},
   "outputs": [
    {
     "name": "stdout",
     "output_type": "stream",
     "text": [
      "{'Gertrude': 1234567890, 'Jeremy': 3334445555, 'Elijah': 2143201122}\n"
     ]
    }
   ],
   "source": [
    "#clear all elements in dictionary\n",
    "#phonebook.clear()\n",
    "print(phonebook)"
   ]
  },
  {
   "cell_type": "code",
   "execution_count": 25,
   "metadata": {},
   "outputs": [
    {
     "name": "stdout",
     "output_type": "stream",
     "text": [
      "True\n",
      "False\n"
     ]
    }
   ],
   "source": [
    "#check if a key is in a dictionary\n",
    "print(\"str()\" in reservedWords)\n",
    "print(\"type()\" in reservedWords)"
   ]
  },
  {
   "cell_type": "code",
   "execution_count": 19,
   "metadata": {},
   "outputs": [
    {
     "name": "stdout",
     "output_type": "stream",
     "text": [
      "{3: 'triangle', 4: ['square', 'rectangle', 'parallelogram', 'rhombus'], 5: 'pentagon', 6: 'hexagon'}\n"
     ]
    }
   ],
   "source": [
    "shapes = {}\n",
    "shapes[3] = \"triangle\"\n",
    "shapes[4] = [\"square\", \"rectangle\", \"parallelogram\", \"rhombus\"]\n",
    "shapes[5] = \"pentagon\"\n",
    "shapes[6] = \"hexagon\"\n",
    "\n",
    "print(shapes)"
   ]
  }
 ],
 "metadata": {
  "kernelspec": {
   "display_name": "Python 3",
   "language": "python",
   "name": "python3"
  },
  "language_info": {
   "codemirror_mode": {
    "name": "ipython",
    "version": 3
   },
   "file_extension": ".py",
   "mimetype": "text/x-python",
   "name": "python",
   "nbconvert_exporter": "python",
   "pygments_lexer": "ipython3",
   "version": "3.7.6"
  }
 },
 "nbformat": 4,
 "nbformat_minor": 4
}

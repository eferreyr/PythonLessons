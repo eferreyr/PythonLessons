{
 "cells": [
  {
   "cell_type": "code",
   "execution_count": 1,
   "metadata": {},
   "outputs": [],
   "source": [
    "#in this module, we have a function that will generate lists of random numbers\n",
    "#the function will take in 3 arguments: number of elements in list, min number, and max\n",
    "import random\n",
    "\n",
    "def generateNumList(length,minimum,maximum):\n",
    "    #create an empty list to put random numbers into later\n",
    "    numList = []\n",
    "    \n",
    "    #because we can only generate a random number one at a time but we need a certain number of them,\n",
    "    #we will create a for loop that will iterate the number of times specified in the variable named length,\n",
    "    #and every time it iterates, it will generate a random number between the given minimum and the given maximum\n",
    "    #and add it to the end of numList\n",
    "    for i in range(length):\n",
    "        numList.append(random.randint(minimum,maximum))\n",
    "        \n",
    "    #once we have broken out of the loop, it means that we have run the loop length amount of times\n",
    "    #and every time, we added a random value\n",
    "    #therefore, we should have a fully generated list by the time we exit the loop\n",
    "    #now we can return it\n",
    "    return numList"
   ]
  }
 ],
 "metadata": {
  "kernelspec": {
   "display_name": "Python 3",
   "language": "python",
   "name": "python3"
  },
  "language_info": {
   "codemirror_mode": {
    "name": "ipython",
    "version": 3
   },
   "file_extension": ".py",
   "mimetype": "text/x-python",
   "name": "python",
   "nbconvert_exporter": "python",
   "pygments_lexer": "ipython3",
   "version": "3.7.6"
  }
 },
 "nbformat": 4,
 "nbformat_minor": 4
}

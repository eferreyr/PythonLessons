{
 "cells": [
  {
   "cell_type": "code",
   "execution_count": 2,
   "metadata": {},
   "outputs": [],
   "source": [
    "#in this file, I'm going to create a function for converting a temperature in celcius to fahrenheit\n",
    "#and another that converts temperatures in fahrenheit into celcius\n",
    "#this is a module that contains two functions: c_to_f() and f_to_c()\n",
    "#pretty much all these files we've made so far have been modules\n",
    "#because technically, modules are different files that each do specific things,\n",
    "#but their variables and functions can be drawn from by other files\n",
    "#we do this to break down a more complicated program into more manageable bits\n",
    "#now lets go to the file/module that uses this module\n",
    "def c_to_f(temp):\n",
    "    return (temp-32)*(5/9.0)\n",
    "    \n",
    "def f_to_c(temp):\n",
    "    return (temp * (9.0/5)) + 32"
   ]
  }
 ],
 "metadata": {
  "kernelspec": {
   "display_name": "Python 3",
   "language": "python",
   "name": "python3"
  },
  "language_info": {
   "codemirror_mode": {
    "name": "ipython",
    "version": 3
   },
   "file_extension": ".py",
   "mimetype": "text/x-python",
   "name": "python",
   "nbconvert_exporter": "python",
   "pygments_lexer": "ipython3",
   "version": "3.7.6"
  }
 },
 "nbformat": 4,
 "nbformat_minor": 4
}

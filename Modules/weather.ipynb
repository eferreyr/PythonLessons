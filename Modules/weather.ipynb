{
 "cells": [
  {
   "cell_type": "code",
   "execution_count": 1,
   "metadata": {},
   "outputs": [
    {
     "ename": "ModuleNotFoundError",
     "evalue": "No module named 'num_list_generator'",
     "output_type": "error",
     "traceback": [
      "\u001b[1;31m---------------------------------------------------------------------------\u001b[0m",
      "\u001b[1;31mModuleNotFoundError\u001b[0m                       Traceback (most recent call last)",
      "\u001b[1;32m<ipython-input-1-ed56c80dd2ea>\u001b[0m in \u001b[0;36m<module>\u001b[1;34m\u001b[0m\n\u001b[0;32m      5\u001b[0m \u001b[1;31m#and its min is 0 because that's the temperature in which water freezes in celcius\u001b[0m\u001b[1;33m\u001b[0m\u001b[1;33m\u001b[0m\u001b[1;33m\u001b[0m\u001b[0m\n\u001b[0;32m      6\u001b[0m \u001b[1;31m#and its max is 100 because that's the temperature in which water boils in celcius\u001b[0m\u001b[1;33m\u001b[0m\u001b[1;33m\u001b[0m\u001b[1;33m\u001b[0m\u001b[0m\n\u001b[1;32m----> 7\u001b[1;33m \u001b[1;32mimport\u001b[0m \u001b[0mnum_list_generator\u001b[0m\u001b[1;33m\u001b[0m\u001b[1;33m\u001b[0m\u001b[0m\n\u001b[0m\u001b[0;32m      8\u001b[0m \u001b[1;33m\u001b[0m\u001b[0m\n\u001b[0;32m      9\u001b[0m \u001b[1;31m#first lets create constants for the freezing and boiling temperatures\u001b[0m\u001b[1;33m\u001b[0m\u001b[1;33m\u001b[0m\u001b[1;33m\u001b[0m\u001b[0m\n",
      "\u001b[1;31mModuleNotFoundError\u001b[0m: No module named 'num_list_generator'"
     ]
    }
   ],
   "source": [
    "#this will be a weather stats calculating program\n",
    "#this will be an hourly update for the day\n",
    "#so I will create a list of 24 random numbers between 0 and 100\n",
    "#each random number will be represent a temperature at a certain hour\n",
    "#and its min is 0 because that's the temperature in which water freezes in celcius\n",
    "#and its max is 100 because that's the temperature in which water boils in celcius\n",
    "import num_list_generator\n",
    "\n",
    "#first lets create constants for the freezing and boiling temperatures\n",
    "#you can do this by putting your variable name in all caps\n",
    "FREEZING_IN_C = 0\n",
    "BOILING_IN_C = 100\n",
    "\n",
    "#now lets generate a list of 24 random numbers between 0 and 100 \n",
    "#using the function generateNumList() in the module num_list_generator\n",
    "#in order to be able to use this function, we need to import it\n",
    "temps = num_list_generator.generateNumList(24,0,100)"
   ]
  }
 ],
 "metadata": {
  "kernelspec": {
   "display_name": "Python 3",
   "language": "python",
   "name": "python3"
  },
  "language_info": {
   "codemirror_mode": {
    "name": "ipython",
    "version": 3
   },
   "file_extension": ".py",
   "mimetype": "text/x-python",
   "name": "python",
   "nbconvert_exporter": "python",
   "pygments_lexer": "ipython3",
   "version": "3.7.6"
  }
 },
 "nbformat": 4,
 "nbformat_minor": 4
}

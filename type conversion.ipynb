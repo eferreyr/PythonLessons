{
 "cells": [
  {
   "cell_type": "code",
   "execution_count": 2,
   "metadata": {},
   "outputs": [
    {
     "name": "stdout",
     "output_type": "stream",
     "text": [
      "<class 'str'>\n",
      "<class 'int'>\n"
     ]
    }
   ],
   "source": [
    "#\"420\" is a String, and we can prove it by using type()\n",
    "#type() tells us what data type the value we put in it's () is\n",
    "#but we know that there is a whole number in this String\n",
    "print(type(\"420\"))\n",
    "\n",
    "#there is a process called TYPE CONVERSION where we turn a value of one type into a value of another type\n",
    "#lets turn the string \"420\" into the integer 420, then check its type again\n",
    "#we do this by using the function int() which is short for integer (whole numbers)\n",
    "#int() will turn the value inside the parenthesis into an integer\n",
    "a = int(\"420\")\n",
    "print(type(a))\n",
    "\n",
    "#not everything can be turned into an integer though and we need to be aware of this\n",
    "#if what we put into int() can't be turned into a whole number, then the code will break\n",
    "#b = int(\"Dog\")\n",
    "#print(type(b))"
   ]
  },
  {
   "cell_type": "code",
   "execution_count": 5,
   "metadata": {},
   "outputs": [
    {
     "name": "stdout",
     "output_type": "stream",
     "text": [
      "<class 'int'>\n",
      "420\n"
     ]
    }
   ],
   "source": [
    "#floats (decimal numbers) can also be turned into integers\n",
    "#when you put a float into int(), int() chops off the decimal, it doesn't round\n",
    "#that's why it's not 421 (because 6 would round up),\n",
    "#instead it's 420, or the number before the decimal\n",
    "b = int(420.699)\n",
    "print(type(b))\n",
    "print(b)\n",
    "\n",
    "#int() can turn floats and strings of integers into intergers\n",
    "#but it can't turn a string of a float into an integer\n",
    "#c = int(\"420.699\")\n",
    "#print(type(c))\n",
    "#print(c)"
   ]
  },
  {
   "cell_type": "code",
   "execution_count": 6,
   "metadata": {},
   "outputs": [
    {
     "name": "stdout",
     "output_type": "stream",
     "text": [
      "<class 'float'>\n"
     ]
    }
   ],
   "source": [
    "#float() can turn a string of a float into a float\n",
    "c = float(\"3.14\")\n",
    "print(type(c))"
   ]
  },
  {
   "cell_type": "code",
   "execution_count": 7,
   "metadata": {},
   "outputs": [
    {
     "name": "stdout",
     "output_type": "stream",
     "text": [
      "<class 'float'>\n",
      "7.0\n",
      "3\n"
     ]
    }
   ],
   "source": [
    "#you can also use float() to turn an integer into a float\n",
    "#but since an integer has no decimal\n",
    "#float() just adds a point zero to the end of the integer\n",
    "d = float(7)\n",
    "print(type(d))\n",
    "print(d)\n",
    "\n",
    "#even though I can't turn a string of a float into an integer, \n",
    "#i can still do it by first turning the string into a float and then turning the float into an integer\n",
    "print(int(float(c)))"
   ]
  },
  {
   "cell_type": "code",
   "execution_count": 8,
   "metadata": {},
   "outputs": [
    {
     "name": "stdout",
     "output_type": "stream",
     "text": [
      "<class 'str'>\n",
      "7\n"
     ]
    }
   ],
   "source": [
    "#you can also turn any data type into a string\n",
    "#here we turn an integer into a string using str()\n",
    "#print() also turns anything into a string, but it also displays the string\n",
    "#str() doesn't display anything but it creates a value that you can save to a variable or further manipulate\n",
    "#you can't do that with print()\n",
    "e = str(7)\n",
    "print(type(e))\n",
    "print(e)"
   ]
  },
  {
   "cell_type": "code",
   "execution_count": 9,
   "metadata": {},
   "outputs": [
    {
     "name": "stdout",
     "output_type": "stream",
     "text": [
      "<class 'str'>\n",
      "4.598\n"
     ]
    }
   ],
   "source": [
    "#here we turn a float into a string\n",
    "f = str(4.598)\n",
    "print(type(f))\n",
    "print(f)"
   ]
  },
  {
   "cell_type": "code",
   "execution_count": 8,
   "metadata": {},
   "outputs": [
    {
     "name": "stdout",
     "output_type": "stream",
     "text": [
      "<class 'bool'>\n",
      "True\n",
      "<class 'str'>\n",
      "True\n"
     ]
    }
   ],
   "source": [
    "#here we turn a boolean value into a string\n",
    "g = True\n",
    "print(type(g))\n",
    "print(g)\n",
    "g = str(True)\n",
    "print(type(g))\n",
    "print(g)"
   ]
  },
  {
   "cell_type": "code",
   "execution_count": 11,
   "metadata": {},
   "outputs": [
    {
     "name": "stdout",
     "output_type": "stream",
     "text": [
      "True\n",
      "False\n",
      "True\n",
      "False\n"
     ]
    }
   ],
   "source": [
    "#we can turn data types into boolean values by using bool()\n",
    "#if we put a number into bool() and that number is zero, then bool() will convert that number into False\n",
    "#otherwise, bool() will convert that number to True\n",
    "#for h and i, we convert integers into boolean values\n",
    "h = bool(-4)\n",
    "print(h)\n",
    "i = bool(0)\n",
    "print(i)\n",
    "#for j and k, we convert floats into boolean values\n",
    "j = bool(.003)\n",
    "print(j)\n",
    "k = bool(0.0)\n",
    "print(k)"
   ]
  },
  {
   "cell_type": "code",
   "execution_count": null,
   "metadata": {},
   "outputs": [],
   "source": [
    "#if we put a string into bool() and that string is empty (nothing between the quotations \"\", not even a space \" \"),\n",
    "#then bool() will convert that string into False\n",
    "#otherwise, bool() will convert that string to True\n",
    "l = bool(\"Hi\")\n",
    "print(l)\n",
    "m = bool(\"\")\n",
    "print()"
   ]
  }
 ],
 "metadata": {
  "kernelspec": {
   "display_name": "Python 3",
   "language": "python",
   "name": "python3"
  },
  "language_info": {
   "codemirror_mode": {
    "name": "ipython",
    "version": 3
   },
   "file_extension": ".py",
   "mimetype": "text/x-python",
   "name": "python",
   "nbconvert_exporter": "python",
   "pygments_lexer": "ipython3",
   "version": "3.7.6"
  }
 },
 "nbformat": 4,
 "nbformat_minor": 4
}

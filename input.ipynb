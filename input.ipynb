{
 "cells": [
  {
   "cell_type": "code",
   "execution_count": 3,
   "metadata": {},
   "outputs": [
    {
     "name": "stdout",
     "output_type": "stream",
     "text": [
      "Enter your name: \n",
      "Emilia\n",
      "Hi, my name is Emilia\n"
     ]
    }
   ],
   "source": [
    "#prompt a user for an input by printing a string asking for the info you want\n",
    "#take an input from the user by using input()\n",
    "#input() will create a text box for the user to input something into\n",
    "#and when they hit enter, what they inputed will be returned \n",
    "#and you can save it to a variable and/or manipulate it from there\n",
    "print(\"Enter your name: \")\n",
    "yourName = input()\n",
    "print(\"Hi, my name is\", yourName)"
   ]
  },
  {
   "cell_type": "code",
   "execution_count": 2,
   "metadata": {},
   "outputs": [
    {
     "name": "stdout",
     "output_type": "stream",
     "text": [
      "Enter Your Name: Emilia\n",
      "Hi, My name is Emilia\n"
     ]
    }
   ],
   "source": [
    "#if you want the input to be on the same line as the prompt,\n",
    "#you can add end=\"\" after your prompt string\n",
    "#end=\"\" replaces the automatic newline at the end of a print() with whatever is inside the \"\"\n",
    "#if the \"\" is empty, then the next thing displayed will display immediately after this \n",
    "print(\"Enter Your Name: \", end='')\n",
    "yourName = input()\n",
    "print(\"Hi, My name is\", yourName)"
   ]
  },
  {
   "cell_type": "code",
   "execution_count": 6,
   "metadata": {},
   "outputs": [
    {
     "name": "stdout",
     "output_type": "stream",
     "text": [
      "my/name/is/emilia"
     ]
    }
   ],
   "source": [
    "\n",
    "print(\"my\", end=\"/\")\n",
    "print(\"name\", end='?')\n",
    "print(\"is\", end='/')\n",
    "print(\"emilia\", end='')"
   ]
  },
  {
   "cell_type": "code",
   "execution_count": 3,
   "metadata": {},
   "outputs": [
    {
     "name": "stdout",
     "output_type": "stream",
     "text": [
      "Enter your name: Emilia\n",
      "Hi, my name is Emilia\n"
     ]
    }
   ],
   "source": [
    "yourName = input(\"Enter your name: \")\n",
    "print(\"Hi, my name is\", yourName)"
   ]
  },
  {
   "cell_type": "code",
   "execution_count": null,
   "metadata": {},
   "outputs": [],
   "source": []
  }
 ],
 "metadata": {
  "kernelspec": {
   "display_name": "Python 3",
   "language": "python",
   "name": "python3"
  },
  "language_info": {
   "codemirror_mode": {
    "name": "ipython",
    "version": 3
   },
   "file_extension": ".py",
   "mimetype": "text/x-python",
   "name": "python",
   "nbconvert_exporter": "python",
   "pygments_lexer": "ipython3",
   "version": "3.7.6"
  }
 },
 "nbformat": 4,
 "nbformat_minor": 4
}

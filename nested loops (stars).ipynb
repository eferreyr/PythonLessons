{
 "cells": [
  {
   "cell_type": "code",
   "execution_count": 1,
   "metadata": {},
   "outputs": [
    {
     "name": "stdout",
     "output_type": "stream",
     "text": [
      "How many stars? 7\n",
      "*******\n"
     ]
    }
   ],
   "source": [
    "#prompt for number of stars\n",
    "#turn input into int and set equal to numStars\n",
    "numStars = int(input(\"How many stars? \"))\n",
    "\n",
    "#i = 0, print(\"*\") until i=numStars\n",
    "for i in range(numStars):\n",
    "    print(\"*\",end=\"\")\n",
    "print()"
   ]
  },
  {
   "cell_type": "code",
   "execution_count": 2,
   "metadata": {},
   "outputs": [
    {
     "name": "stdout",
     "output_type": "stream",
     "text": [
      "How many stars? 5\n",
      "How many lines? 5\n",
      "*****\n",
      "*****\n",
      "*****\n",
      "*****\n",
      "*****\n"
     ]
    }
   ],
   "source": [
    "#prompt for number of stars\n",
    "#turn input into int and set equal to numStars\n",
    "numStars = int(input(\"How many stars? \"))\n",
    "#prompt for number of lines\n",
    "numLines = int(input(\"How many lines? \"))\n",
    "\n",
    "#i = 0, print() between lines of stars until i=numLines\n",
    "for i in range(numLines):\n",
    "    #j = 0, print(\"*\") until i = numStars\n",
    "    for j in range(numStars):\n",
    "        print(\"*\",end=\"\")\n",
    "    print()"
   ]
  },
  {
   "cell_type": "code",
   "execution_count": 1,
   "metadata": {},
   "outputs": [
    {
     "name": "stdout",
     "output_type": "stream",
     "text": [
      "How many stars? 5\n",
      "How many lines? 5\n",
      "How many blocks? 5\n",
      "*****\n",
      "*****\n",
      "*****\n",
      "*****\n",
      "*****\n",
      "\n",
      "*****\n",
      "*****\n",
      "*****\n",
      "*****\n",
      "*****\n",
      "\n",
      "*****\n",
      "*****\n",
      "*****\n",
      "*****\n",
      "*****\n",
      "\n",
      "*****\n",
      "*****\n",
      "*****\n",
      "*****\n",
      "*****\n",
      "\n",
      "*****\n",
      "*****\n",
      "*****\n",
      "*****\n",
      "*****\n",
      "\n"
     ]
    }
   ],
   "source": [
    "#number of stars per line\n",
    "numStars = int(input(\"How many stars? \"))\n",
    "#number of lines per block\n",
    "numLines = int(input(\"How many lines? \"))\n",
    "#number of blocks\n",
    "numBlocks = int(input(\"How many blocks? \"))\n",
    "\n",
    "#i = 0, print() between blocks of stars until i=numBlocks\n",
    "for i in range(numBlocks):\n",
    "    #j = 0, print() between lines of stars until j=numLines\n",
    "    for j in range(numLines):\n",
    "        #k = 0, print(\"*\") until k=numStars\n",
    "        for k in range(numStars):\n",
    "            print(\"*\",end=\"\")\n",
    "        print()\n",
    "    print()\n"
   ]
  },
  {
   "cell_type": "code",
   "execution_count": 7,
   "metadata": {},
   "outputs": [
    {
     "name": "stdout",
     "output_type": "stream",
     "text": [
      "What is the max height of your star pyramid? 10\n",
      "*\n",
      "**\n",
      "***\n",
      "****\n",
      "*****\n",
      "******\n",
      "*******\n",
      "********\n",
      "*********\n",
      "**********\n",
      "*********\n",
      "********\n",
      "*******\n",
      "******\n",
      "*****\n",
      "****\n",
      "***\n",
      "**\n",
      "*\n"
     ]
    }
   ],
   "source": [
    "#max number of stars in pyramid\n",
    "maxStars = int(input(\"What is the max height of your star pyramid? \"))\n",
    "\n",
    "#first half of pyramid\n",
    "#range from 1 to (maxStars+1) because i is equal to how many stars are in each line\n",
    "#therefore, i being equal to 0 is useless, prints nothing\n",
    "#and maxStars-1 is not the amount of stars the user wanted\n",
    "for i in range(1,maxStars+1):\n",
    "    #i=how many stars are in each line\n",
    "    #range can be from 0 to i-1 because 0 to i-1 is the same amount as 1 to i\n",
    "    for j in range(i):\n",
    "        print(\"*\",end=\"\")\n",
    "    print()\n",
    "    \n",
    "#second half of pyramid\n",
    "#range in descending order from (maxStars-1) to 0\n",
    "#it starts at (maxStars-1) because the line with \n",
    "#maxStars number of stars was already printed in the for loop above\n",
    "#and ends at zero because one greater than zero is 1\n",
    "for i in range(maxStars-1,0,-1):\n",
    "    for j in range(i):\n",
    "        print(\"*\",end=\"\")\n",
    "    print()\n",
    "    \n"
   ]
  }
 ],
 "metadata": {
  "kernelspec": {
   "display_name": "Python 3",
   "language": "python",
   "name": "python3"
  },
  "language_info": {
   "codemirror_mode": {
    "name": "ipython",
    "version": 3
   },
   "file_extension": ".py",
   "mimetype": "text/x-python",
   "name": "python",
   "nbconvert_exporter": "python",
   "pygments_lexer": "ipython3",
   "version": "3.7.6"
  }
 },
 "nbformat": 4,
 "nbformat_minor": 4
}

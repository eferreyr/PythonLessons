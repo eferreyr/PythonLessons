{
 "cells": [
  {
   "cell_type": "code",
   "execution_count": 1,
   "metadata": {},
   "outputs": [
    {
     "name": "stdout",
     "output_type": "stream",
     "text": [
      "Hello World!\n"
     ]
    }
   ],
   "source": [
    "#traditionally, the first program you write when learning a new programming language\n",
    "#is to display the message \"Hello World!\"\n",
    "#in python, you do this by using the the print() function\n",
    "#what you put in the parenthesis of print() will be displayed \n",
    "#this time, we chose to display a String\n",
    "#a String is a data type in which a series of characters (A-Z,a-z,0-9,!@#$%^&*, etc) \n",
    "#between either single '' or double \"\" quotations\n",
    "#other common data types in python include: integers which are whole numbers, \n",
    "#floats which are decimal values,\n",
    "#and boolean which are True and False values\n",
    "#we have data types because there are somethings that you can do with a number (like divide it by two)\n",
    "#that you can't do with a String or boolean value and the computer needs to know\n",
    "#which data type it's dealing with so it knows which actions are legal or not\n",
    "print(\"Hello World!\");"
   ]
  },
  {
   "cell_type": "code",
   "execution_count": 2,
   "metadata": {},
   "outputs": [
    {
     "name": "stdout",
     "output_type": "stream",
     "text": [
      "3\n",
      "3\n"
     ]
    }
   ],
   "source": [
    "#here we are printing a String with 3 inside it\n",
    "#and on the next line, we print the number 3\n",
    "#we can divide the number 3 by 2, but we can't divide the String \"3\" by 2\n",
    "#because even though we know the String says 3,\n",
    "#as far as the computer is concerned, it is a string that contains any possible character\n",
    "#so it will treat it the same as if we were trying to divide the String \"A\" by 2\n",
    "print('3')\n",
    "print(3)\n",
    "\n",
    "#still, when we print these two,they look the same\n",
    "#this is because the print() function turns anything you put into it into a String before it displays it"
   ]
  },
  {
   "cell_type": "code",
   "execution_count": 4,
   "metadata": {},
   "outputs": [
    {
     "name": "stdout",
     "output_type": "stream",
     "text": [
      "True\n"
     ]
    }
   ],
   "source": [
    "#this is also the case when you print a boolean value \n",
    "#(remember to capitalize True and False when you mean the boolean value!)\n",
    "print(True)"
   ]
  },
  {
   "cell_type": "code",
   "execution_count": 2,
   "metadata": {},
   "outputs": [
    {
     "name": "stdout",
     "output_type": "stream",
     "text": [
      "7\n",
      "Hello!\n",
      "7\n"
     ]
    }
   ],
   "source": [
    "#you can save data by filing it under a name\n",
    "#I can file the number 7 away under the name \"a\"\n",
    "#and then when I look for \"a\", I will find the number 7\n",
    "#\"a\" in this example is called a variable\n",
    "#you can create as many variables as you want, set them equal to any data type,\n",
    "#and name them whatever you want as long as they aren't keywords like if,elif,else,and,or,for,while \n",
    "#(we'll cover what these keywords mean later) or function names like print() or start with a non-letter\n",
    "#or contain characters other than letters, numbers, and underscores\n",
    "#however, it's good practice to name the variable something related to the data you're saving to it\n",
    "#like instead of calling the variable attached to the number 7, \"a\"\n",
    "#I call it \"lucky_number\" so I know what meaning this number 7 has to me\n",
    "#I could also rename \"b\" which holds the string \"Hello!\" to \"greeting\" or something\n",
    "a = 7\n",
    "b = \"Hello!\"\n",
    "\n",
    "#when I create a variable c and i set it equal to the variable a, \n",
    "#then I am really setting c equal to the value attached to variable a, which is the number 7\n",
    "c = a\n",
    "\n",
    "#when I print the variables a,b, and c, I'm not printing the letters \"a\",\"b\", and \"c\"\n",
    "#if I wanted to do that, I would put them in quotations to let the computer know they are already strings\n",
    "#but the computer assumes that words that aren't encased by quotations are variable names\n",
    "#and will instead print the values attached to them\n",
    "print(a)\n",
    "print(b)\n",
    "print(c)\n",
    "\n",
    "#but if you try to print a variable name that hasn't been attached to a variable yet,\n",
    "#the computer will not know what to print and will instead cause an error\n",
    "#print(d)"
   ]
  },
  {
   "cell_type": "code",
   "execution_count": 6,
   "metadata": {},
   "outputs": [
    {
     "name": "stdout",
     "output_type": "stream",
     "text": [
      "1\n",
      "7\n"
     ]
    }
   ],
   "source": [
    "#I can change the value attached to a variable at anytime\n",
    "#by just setting the variable equal to another value\n",
    "#this value can be any data type and the old value is thrown away\n",
    "a = False\n",
    "\n",
    "#c was set equal to a earlier, so if c is equal to whatever is attached to a,\n",
    "#when we print these two values again, will c also equal false now?\n",
    "#no, when I set c equal to a earlier, c is now attaching itself to the value that a is attached to at that time\n",
    "#c doesn't attach itself t\n",
    "print(a)\n",
    "print(c)"
   ]
  },
  {
   "cell_type": "code",
   "execution_count": null,
   "metadata": {},
   "outputs": [],
   "source": []
  }
 ],
 "metadata": {
  "kernelspec": {
   "display_name": "Python 3",
   "language": "python",
   "name": "python3"
  },
  "language_info": {
   "codemirror_mode": {
    "name": "ipython",
    "version": 3
   },
   "file_extension": ".py",
   "mimetype": "text/x-python",
   "name": "python",
   "nbconvert_exporter": "python",
   "pygments_lexer": "ipython3",
   "version": "3.7.6"
  }
 },
 "nbformat": 4,
 "nbformat_minor": 4
}

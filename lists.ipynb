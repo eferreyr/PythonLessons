{
 "cells": [
  {
   "cell_type": "code",
   "execution_count": 6,
   "metadata": {},
   "outputs": [],
   "source": [
    "fam=[\"Mom\",\"Dad\",\"Emilia\",\"Nina\"] #list of my family members\n",
    "toDo= [\"eat\",\"sleep\",\"code\"] #to do list\n",
    "groceries=[\"oreos\",\"chocolate milk\",\"lucky charms\",\"candy\"] #grocery list\n",
    "\n",
    "#lists can be of different data types too\n",
    "lessonTime=[2.5,2.5,2.5,2.5,1.5,2,2] #amt of hours I come teach per day of the week\n",
    "\n",
    "#lists can also mix and match data types\n",
    "myList = [5,7.2,-3,\"Emilia\",groceries,[1,2,3]] #what are the data types of each element of the list?\n",
    "#notice that there are lists within lists\n"
   ]
  },
  {
   "cell_type": "code",
   "execution_count": 5,
   "metadata": {},
   "outputs": [
    {
     "name": "stdout",
     "output_type": "stream",
     "text": [
      "<class 'list'>\n"
     ]
    }
   ],
   "source": [
    "#lists are their own data type\n",
    "print(type(myList))"
   ]
  },
  {
   "cell_type": "code",
   "execution_count": 13,
   "metadata": {},
   "outputs": [
    {
     "name": "stdout",
     "output_type": "stream",
     "text": [
      "[]\n",
      "[\"mac'n'cheese\"]\n",
      "[\"mac'n'cheese\", 'sprite', 'chicken nuggets', 'chocolate ice cream']\n",
      "[\"mac'n'cheese\", 'sprite', 'chicken nuggets', 'apple', 'chocolate ice cream']\n",
      "[\"mac'n'cheese\", 'Dr Pepper', 'chicken nuggets', 'apple', 'chocolate ice cream']\n"
     ]
    }
   ],
   "source": [
    "#initialize an empty list\n",
    "dinner=[] #idk what im having for dinner yet, but I can add as I go\n",
    "\n",
    "print(dinner)\n",
    "\n",
    "#add one thing to the end of the list\n",
    "dinner.append(\"mac'n'cheese\")\n",
    "print(dinner)\n",
    "\n",
    "#add multiple things to the end of a list\n",
    "dinner.extend([\"sprite\",\"chicken nuggets\",\"chocolate ice cream\"])\n",
    "print(dinner)\n",
    "\n",
    "#sometimes you want to add something to a specific spot, but how do you tell it where to go?\n",
    "#an index is like the address of an element of a list\n",
    "#like if you're standing in a line, someone is 1st, then 2nd, then 3rd, etc\n",
    "#except in lists, it starts at zero and counts up from there\n",
    "#therefore, the last index is equal to the size of the list minus one\n",
    "#add something in a specific spot and move everything after it over one\n",
    "dinner.insert(3,\"apple\")\n",
    "print(dinner)\n",
    "\n",
    "#insert doesn't change what's in index 3 to \"apple\"\n",
    "#it just puts \"apple\" in index 3 and moves what was in index 3 and everything after it\n",
    "#one index over\n",
    "#if you want to change an element in a list...\n",
    "dinner[1] = \"Dr Pepper\"\n",
    "print(dinner)"
   ]
  },
  {
   "cell_type": "code",
   "execution_count": 10,
   "metadata": {},
   "outputs": [
    {
     "name": "stdout",
     "output_type": "stream",
     "text": [
      "[1, 2, 3, 4, 5, 6, [7, 8, 9]]\n"
     ]
    }
   ],
   "source": [
    "num = [1,2,3]\n",
    "\n",
    "#what is the difference between extend([4,5,6]) and append([7,8,9])?\n",
    "num.extend([4,5,6])\n",
    "num.append([7,8,9])\n",
    "\n",
    "#since append is for adding one thing at a time, it thinks that you are adding a list\n",
    "#since extend is for adding multiple items, it adds each of the given values one at a time\n",
    "#this list has 7 things in it, not 9\n",
    "print(num)"
   ]
  },
  {
   "cell_type": "code",
   "execution_count": 2,
   "metadata": {},
   "outputs": [
    {
     "name": "stdout",
     "output_type": "stream",
     "text": [
      "z\n",
      "i\n",
      "['b', 'g', 'h']\n",
      "['z', 'b', 'g']\n",
      "['a', 'i', 'm']\n",
      "['z', 'b', 'g', 'h', 'a', 'i', 'm']\n"
     ]
    }
   ],
   "source": [
    "letters = ['z','b','g','h','a','i','m']\n",
    "\n",
    "#look at elements in a list\n",
    "print(letters[0])\n",
    "print(letters[5])\n",
    "#print(letters[7]) #index out of bounds\n",
    "\n",
    "#slice, to look at multiple letters at one\n",
    "print(letters[1:4]) #index 1 to index 3 (4-1)\n",
    "print(letters[:3]) #beginning of list to index 2 (3-1)\n",
    "print(letters[4:]) #index 4 to end of list\n",
    "print(letters[:]) #entire list"
   ]
  },
  {
   "cell_type": "code",
   "execution_count": 2,
   "metadata": {},
   "outputs": [
    {
     "name": "stdout",
     "output_type": "stream",
     "text": [
      "['z', 'b', 'g', 'a', 'i', 'm']\n",
      "X not in letters\n"
     ]
    }
   ],
   "source": [
    "letters = ['z','b','g','h','a','i','m']\n",
    "\n",
    "#remove elements from a list by naming the element\n",
    "letters.remove(\"h\")\n",
    "print(letters)\n",
    "\n",
    "#but if the element is not in the list, there's an error\n",
    "#letters.remove(\"x\")\n",
    "#so you have to check if it is in the list first\n",
    "if \"x\" in letters:\n",
    "    letters.remove(\"x\")\n",
    "    print(\"X removed\")\n",
    "else:\n",
    "    print(\"X not in letters\")"
   ]
  },
  {
   "cell_type": "code",
   "execution_count": 12,
   "metadata": {},
   "outputs": [
    {
     "name": "stdout",
     "output_type": "stream",
     "text": [
      "['z', 'b', 'g', 'h', 'a', 'm']\n",
      "4\n",
      "['z', 'b', 'g', 'h', 'm']\n",
      "0\n"
     ]
    }
   ],
   "source": [
    "letters = ['z','b','g','h','a','i','m']\n",
    "\n",
    "#remove elements from a list by specifying the index\n",
    "del letters[5]\n",
    "print(letters)\n",
    "\n",
    "#beware index out of bounds error\n",
    "#del letters[7]\n",
    "\n",
    "#you can also find what the index of an element is\n",
    "print(letters.index(\"a\"))\n",
    "del letters[letters.index(\"a\")]\n",
    "print(letters)\n",
    "\n",
    "#but like remove(), if the given element is not in the list, there will be an error\n",
    "#print(letters.index(\"e\"))\n",
    "\n",
    "#so you check if it is in the list first\n",
    "if \"z\" in letters:\n",
    "    print(letters.index(\"z\"))\n",
    "else:\n",
    "    print(\"Z not in letters\")"
   ]
  },
  {
   "cell_type": "code",
   "execution_count": 28,
   "metadata": {},
   "outputs": [
    {
     "name": "stdout",
     "output_type": "stream",
     "text": [
      "['z', 'b', 'g', 'h', 'a', 'i']\n",
      "m\n",
      "['z', 'b', 'g', 'a', 'i']\n",
      "h\n"
     ]
    }
   ],
   "source": [
    "letters = ['z','b','g','h','a','i','m']\n",
    "\n",
    "#pop() with nothing in the () deletes the last element\n",
    "#and returns the value deleted\n",
    "#We saved the deleted value to letter\n",
    "letter = letters.pop()\n",
    "print(letters)\n",
    "print(letter)\n",
    "\n",
    "#pop() with a number in the () deletes the element at the specified index\n",
    "#and returns the value deleted\n",
    "letter2 = letters.pop(3)\n",
    "print(letters)\n",
    "print(letter2)\n",
    "\n",
    "#beware index out of bounds!\n",
    "#letters.pop(7)\n",
    "\n",
    "#remember how del lets you delete an element at a certain index?\n",
    "#pop() does the same thing, but you can save the element you deleted!\n",
    "\n"
   ]
  },
  {
   "cell_type": "code",
   "execution_count": 23,
   "metadata": {},
   "outputs": [
    {
     "name": "stdout",
     "output_type": "stream",
     "text": [
      "['Dad', 'Emilia', 'Mom', 'Nina']\n",
      "['sleep', 'eat', 'code']\n",
      "['candy', 'chocolate milk', 'lucky charms', 'oreos']\n",
      "['oreos', 'lucky charms', 'chocolate milk', 'candy']\n",
      "[2, 2, 1.5, 2.5, 2.5, 2.5, 2.5]\n",
      "[[1, 2, 3], ['oreos', 'lucky charms', 'chocolate milk', 'candy'], 'Emilia', -3, 7.2, 5]\n",
      "[[3, 2, 1], ['oreos', 'lucky charms', 'chocolate milk', 'candy'], 'Emilia', -3, 7.2, 5]\n"
     ]
    }
   ],
   "source": [
    "fam=[\"Mom\",\"Dad\",\"Emilia\",\"Nina\"] #list of my family members\n",
    "toDo= [\"eat\",\"sleep\",\"code\"] #to do list\n",
    "groceries=[\"oreos\",\"chocolate milk\",\"lucky charms\",\"candy\"] #grocery list\n",
    "lessonTime=[2.5,2.5,2.5,2.5,1.5,2,2] #amt of hours I come teach per day of the week\n",
    "myList = [5,7.2,-3,\"Emilia\",groceries,[1,2,3]]\n",
    "\n",
    "#sort a list of strings alphabetically in ascending order with sort()\n",
    "fam.sort()\n",
    "print(fam)\n",
    "\n",
    "#sort a list of strings alphabetically in descending order by setting reverse to True\n",
    "#By default, reverse is False and if you leave the () in sort() empty, it will assume ascending order\n",
    "toDo.sort(reverse=True)\n",
    "print(toDo)\n",
    "\n",
    "#you can also sort in descending order by first executing sort() and then reverse()\n",
    "groceries.sort()\n",
    "print(groceries)\n",
    "groceries.reverse()\n",
    "print(groceries)\n",
    "\n",
    "#reverse() doesn't do any sorting, it just flips the order of the list\n",
    "lessonTime.reverse()\n",
    "print(lessonTime)\n",
    "myList.reverse()\n",
    "print(myList)\n",
    "\n",
    "#but you can mix and match data types when sorting. \n",
    "#if there are more than one kind of data type in a list, it won't sort\n",
    "#myList.sort()\n",
    "\n",
    "#what does this do?\n",
    "myList[0].sort(reverse = True)\n",
    "print(myList)"
   ]
  },
  {
   "cell_type": "code",
   "execution_count": 27,
   "metadata": {},
   "outputs": [
    {
     "name": "stdout",
     "output_type": "stream",
     "text": [
      "[1, 2, 3, 4, 5]\n",
      "[1, 2, 3, 4, 5]\n",
      "\n",
      "[1, 2, 3, 4, 5]\n",
      "[5, 2, 3, 1, 4]\n",
      "\n",
      "[1, 2, 3, 4, 5]\n",
      "[5, 2, 3, 1, 4]\n",
      "\n"
     ]
    }
   ],
   "source": [
    "#when I sort, I change the original list\n",
    "#what if I want to keep the original list and create a new list \n",
    "#that's the sorted version of the original?\n",
    "original = [5,2,3,1,4]\n",
    "new = original\n",
    "new.sort()\n",
    "print(new)\n",
    "print(original)\n",
    "print()\n",
    "\n",
    "#when you set new = original, you're not really creating a new list, \n",
    "#you just made another name that points to the same list,\n",
    "#so when you sorted new, you also sorted original\n",
    "#if you want to preserve the orginal, you need to make a seperate copy first\n",
    "original = [5,2,3,1,4]\n",
    "new = original[:] #by taking a slice of the whole list, you are making a copy\n",
    "new.sort()\n",
    "print(new)\n",
    "print(original)\n",
    "print()\n",
    "\n",
    "#There's another way to do this...\n",
    "#sorted() automatically creates a new copy and then sorts it\n",
    "original = [5,2,3,1,4]\n",
    "new = sorted(original)\n",
    "print(new)\n",
    "print(original)\n",
    "print()"
   ]
  },
  {
   "cell_type": "code",
   "execution_count": null,
   "metadata": {},
   "outputs": [],
   "source": []
  }
 ],
 "metadata": {
  "kernelspec": {
   "display_name": "Python 3",
   "language": "python",
   "name": "python3"
  },
  "language_info": {
   "codemirror_mode": {
    "name": "ipython",
    "version": 3
   },
   "file_extension": ".py",
   "mimetype": "text/x-python",
   "name": "python",
   "nbconvert_exporter": "python",
   "pygments_lexer": "ipython3",
   "version": "3.7.6"
  }
 },
 "nbformat": 4,
 "nbformat_minor": 4
}

{
 "cells": [
  {
   "cell_type": "code",
   "execution_count": 1,
   "metadata": {},
   "outputs": [
    {
     "name": "stdout",
     "output_type": "stream",
     "text": [
      "Hello\n",
      "World\n",
      "\n",
      "HelloWorld\n",
      "\n",
      "Hello\n",
      "World\n",
      "\n"
     ]
    }
   ],
   "source": [
    "#CONTROL VERTICAL SPACING\n",
    "#print() has an automatic newline (like hitting enter)\n",
    "#below, hello and world are on different lines because each print statement starts on a new line\n",
    "print(\"Hello\")\n",
    "print(\"World\")\n",
    "print()\n",
    "\n",
    "#you can explicitly tell print() not to start a new line by using end\n",
    "#anything you put in the string that end is set equal to \n",
    "#will replace newline as the ending of the print statement\n",
    "print(\"Hello\",end='')\n",
    "print(\"World\")\n",
    "print()\n",
    "\n",
    "#there's another way to create new lines\n",
    "#just add a '\\n' inside the string where you want it to break into a new line when it prints\n",
    "print(\"Hello\\nWorld\")\n",
    "print()"
   ]
  },
  {
   "cell_type": "code",
   "execution_count": 19,
   "metadata": {},
   "outputs": [
    {
     "name": "stdout",
     "output_type": "stream",
     "text": [
      "ABC\tXYZ\n",
      "ABCDEF\tXYZ\n",
      "ABCDEFGHI\tXYZ\n",
      "ABC\\XYZ\n"
     ]
    }
   ],
   "source": [
    "#CONTROL HORIZONTAL SPACING\n",
    "#Think of a line on a page as a series of 8-character blocks. \n",
    "#When you hit tab, the cursor doesn't just move over 8 spaces.\n",
    "#The cursor moves to the next tab stop, or the start of the next 8-character block\n",
    "#To put a tab of spacing in you string, add a '\\t'\n",
    "\n",
    "print(\"ABC\\tXYZ\") #even though ABCDEF has more letters than ABC, they are still within the same block\n",
    "print(\"ABCDEF\\tXYZ\") #and will print XYZ at the same tab stop\n",
    "print(\"ABCDEFGHI\\tXYZ\") #ABCDEFGHI leaks into the next block, and therefore will print XYZ in the next tab stop\n",
    "\n",
    "#'\\n' and '\\t' are called \"printing codes\" and control vertical and horizontal spacing\n",
    "#but if you really just want to print a backslash instead of use a code,\n",
    "#just use a double backslash \"\\\\\"\n",
    "print(\"ABC\\\\XYZ\")"
   ]
  },
  {
   "cell_type": "code",
   "execution_count": 18,
   "metadata": {},
   "outputs": [
    {
     "name": "stdout",
     "output_type": "stream",
     "text": [
      "EmiliaFerreyra\n",
      "hihihihihihihihihihi\n",
      "Emilia Ferreyra\n"
     ]
    }
   ],
   "source": [
    "#CONCATENATION - adding strings together\n",
    "print(\"Emilia\"+\"Ferreyra\")\n",
    "\n",
    "#multiplication is just repeated addition\n",
    "print(\"hi\"*10)\n",
    "\n",
    "#by separating the strings with commas instead of plus signs, \n",
    "#there is a space automatically added between them\n",
    "print(\"Emilia\",\"Ferreyra\")"
   ]
  },
  {
   "cell_type": "code",
   "execution_count": 2,
   "metadata": {},
   "outputs": [
    {
     "name": "stdout",
     "output_type": "stream",
     "text": [
      "Hi, my name is Emilia\n",
      "10 * 7 = 70\n",
      "My name is Emilia. Nice to meet you!\n",
      "I am 20 years old\n",
      "I will be 21 in a few months\n",
      "It's 90.860000 degrees outside\n",
      "It's 90.86 degrees outside\n",
      "It's 90.8600000000 degrees outside\n",
      "It's 90.9 degrees outside\n",
      "It's 91 degrees outside\n",
      "It's 90 degrees outside\n",
      "It's +90.86 degrees outside\n"
     ]
    }
   ],
   "source": [
    "#Remember how to put variables in strings?\n",
    "myName = \"Emilia\"\n",
    "print(\"Hi, my name is\", myName)\n",
    "\n",
    "#also works with other data types like numbers\n",
    "i = 10\n",
    "print(i,\"* 7 =\", i*7)\n",
    "\n",
    "#There is another way to do this: format strings\n",
    "#the '%s' in the string acts as a place holder for another string\n",
    "#that you specify afterwards with a '%' and then the variable name of the string.\n",
    "#the 's' in '%s' stands for 'string'\n",
    "print(\"My name is %s. Nice to meet you!\" %myName)\n",
    "\n",
    "#this can be done with integers too. Just use '%i' or '%d' instead of '%s'\n",
    "#the 'i' in '%i' stands for 'integer'. IDK what 'd' in '%d' stands for.\n",
    "age = 20\n",
    "print(\"I am %i years old\" %age) #used '%i' in this one\n",
    "print(\"I will be %d in a few months\" %(age+1)) #used '%d' in this one and added 1 to age\n",
    "\n",
    "#this can also be done with floats. Just use '%f' or '%F'\n",
    "#the 'f' in '%f' stands for 'float'\n",
    "temperature = 90.86\n",
    "print(\"It's %f degrees outside\" %temperature) #automatically prints with 6 decimal spaced, but you can change this\n",
    "\n",
    "#add a decimal and the number of decimal spaces you want between the '%' and the 'f' \n",
    "#this is called 'floating point format'\n",
    "print(\"It's %.2f degrees outside\" %temperature) #shortened to two decimals\n",
    "print(\"It's %.10f degrees outside\" %temperature) #lengthened to 10 decimals, just adds zeros to the end\n",
    "\n",
    "#if I shorten the decimal spaces to less than what the original number has, \n",
    "#it will automatically round, but for some reason, 5 rounds down not up\n",
    "print(\"It's %.1f degrees outside\" %temperature)\n",
    "print(\"It's %.0f degrees outside\" %temperature)\n",
    "\n",
    "#'%i' will act like int() and just cut off the decimal instead of rounding\n",
    "print(\"It's %i degrees outside\" %temperature)\n",
    "\n",
    "#you can also add a '+' \n",
    "print(\"It's %+.2f degrees outside\" %temperature)\n",
    "\n"
   ]
  },
  {
   "cell_type": "code",
   "execution_count": 3,
   "metadata": {},
   "outputs": [
    {
     "name": "stdout",
     "output_type": "stream",
     "text": [
      "It's 9.086000e+01 degrees outside\n",
      "It's 9.086e+01 degrees outside\n",
      "It's 9.09e+01 degrees outside\n",
      "It's 9.09E+01 degrees outside\n",
      "num1 is 12.367.\n",
      "num2 is 4.56712e+08.\n",
      "num2 is 4.56712E+08.\n"
     ]
    }
   ],
   "source": [
    "#E NOTATION\n",
    "#you can put a number in E notation using '%e' or '%E'\n",
    "print(\"It's %e degrees outside\" %temperature)\n",
    "\n",
    "#and control the number of decimals the same way you would with '%f'\n",
    "print(\"It's %.3e degrees outside\" %temperature)\n",
    "\n",
    "#'%e' rounds like '%f' too\n",
    "print(\"It's %.2e degrees outside\" %temperature)\n",
    "\n",
    "#if you use '%E' instead of '%e' then the 'e' printed will be capitalized\n",
    "print(\"It's %.2E degrees outside\" %temperature)\n",
    "\n",
    "#you can make the computer judge which format is best (float or E notation)\n",
    "#by using '%g' or \"%G\"\n",
    "num1 = 12.367\n",
    "num2 = 456712345.6\n",
    "\n",
    "print(\"num1 is %g.\" %num1) #will print a float\n",
    "print(\"num2 is %g.\" %num2) #will print in e notation\n",
    "print(\"num2 is %G.\" %num2) #will print in e notation with a capital E"
   ]
  },
  {
   "cell_type": "code",
   "execution_count": 29,
   "metadata": {},
   "outputs": [
    {
     "name": "stdout",
     "output_type": "stream",
     "text": [
      "I got a 90% on my math test!\n",
      "I got a 82.67% on my physics test!\n"
     ]
    }
   ],
   "source": [
    "#how does the computer know when we just want to print a percent sign instead of a format string\n",
    "#well, sometimes the computer is smart enough to know the difference\n",
    "print(\"I got a 90% on my math test!\")\n",
    "\n",
    "#other times, use a double percent sign \"%%\"\n",
    "#just like how you used a double backslash \"\\\\\" \n",
    "#to tell the computer you just wanted to print a backslash and not a printing code\n",
    "grade = 82.6666666667\n",
    "print(\"I got a %.2f%% on my physics test!\" %grade)"
   ]
  },
  {
   "cell_type": "code",
   "execution_count": 6,
   "metadata": {},
   "outputs": [
    {
     "name": "stdout",
     "output_type": "stream",
     "text": [
      "I got a 90.0% in math and a 82.7% in physics!\n",
      "My name is Emilia and I got a 90% in math and a 82.67% in physics!\n"
     ]
    }
   ],
   "source": [
    "#you can add multiple values into your formatted string at a time\n",
    "#just put the variables in parenthesis and separate them with commas\n",
    "mathGrade = 90.05\n",
    "physicsGrade = 82.6666666667\n",
    "print(\"I got a %.1f%% in math and a %.1f%% in physics!\" %(mathGrade,physicsGrade))\n",
    "\n",
    "#you can mix and match data types\n",
    "#below I used a string, an int, and a float\n",
    "myName = \"Emilia\"\n",
    "print(\"My name is %s and I got a %i%% in math and a %.2f%% in physics!\" %(myName,mathGrade,physicsGrade))\n",
    "\n",
    "#these lists of variables in parenthesis are technically tuples btw!"
   ]
  },
  {
   "cell_type": "code",
   "execution_count": 34,
   "metadata": {},
   "outputs": [
    {
     "name": "stdout",
     "output_type": "stream",
     "text": [
      "My name is Emilia and I got a 90% in math and a 82.67% in physics!\n"
     ]
    }
   ],
   "source": [
    "#the formatting strings don't have to just be in print statements\n",
    "#they can also be save to variables\n",
    "myGrades = \"My name is %s and I got a %i%% in math and a %.2f%% in physics!\" %(myName,mathGrade,physicsGrade)\n",
    "print(myGrades)"
   ]
  },
  {
   "cell_type": "code",
   "execution_count": 7,
   "metadata": {},
   "outputs": [
    {
     "name": "stdout",
     "output_type": "stream",
     "text": [
      "My name is Emilia\n",
      "I got a 90.05% in math and a 82.67% in physics!\n",
      "I got a 90.05% in math and a 82.67% in physics!\n"
     ]
    }
   ],
   "source": [
    "#Python version 3.6 and beyond also uses another method of string formatting\n",
    "#you put an f in front of the string to let the computer know that the oncoming string will be a formatted one\n",
    "#then, wherever you would put a '%s','%i','%f', etc, you would instead put\n",
    "#curly brackets then the variable. You don't have to specify what type.\n",
    "print(f\"My name is {myName}\")\n",
    "\n",
    "#if you want to specify the format of a number,\n",
    "#add a colon, then the decimal and the letter indicating the type\n",
    "#you also can use percent signs like normal instead of double percent signs\n",
    "print(f\"I got a {mathGrade:.2f}% in math and a {physicsGrade:.2f}% in physics!\")\n",
    "\n",
    "#this can also be set to a variable\n",
    "myGrades = f\"I got a {mathGrade:.2f}% in math and a {physicsGrade:.2f}% in physics!\"\n",
    "print(myGrades)"
   ]
  },
  {
   "cell_type": "code",
   "execution_count": 8,
   "metadata": {},
   "outputs": [
    {
     "name": "stdout",
     "output_type": "stream",
     "text": [
      "['Michael', 'Pam', 'Jim', 'Dwight', 'Angela', 'Kevin', 'Stanley', 'Toby', 'Andy', 'Kelly', 'Meredith', 'Oscar', 'Phyllis']\n",
      "['Mich', 'el,P', 'm,Jim,Dwight,Angel', ',Kevin,St', 'nley,Toby,Andy,Kelly,Meredith,Osc', 'r,Phyllis']\n",
      "['Michael,Pam,Jim,Dwight,Angela,Kevin,Stanley', 'Andy,Kelly,Meredith,Oscar,Phyllis']\n",
      "['Hello', 'World!', 'I', 'am', 'ready', 'to', 'code!!!']\n"
     ]
    }
   ],
   "source": [
    "#SPLITTING STRINGS\n",
    "#this is a string of names of characters in the Office separated by commas\n",
    "#we can turn this into a list pretty easily \n",
    "#by splitting the large string into a bunch of smaller strings\n",
    "#we specify what we want to split by in the () of split()\n",
    "#and whenever split() encounters the string we put in the (), it will end the string before it,\n",
    "#append it to a list, and start a new string\n",
    "officeNamesString = \"Michael,Pam,Jim,Dwight,Angela,Kevin,Stanley,Toby,Andy,Kelly,Meredith,Oscar,Phyllis\"\n",
    "officeNamesList = officeNamesString.split(\",\") #splits by comma\n",
    "officeNamesList2 = officeNamesString.split(\"a\") #splits by letter a\n",
    "officeNamesList3 = officeNamesString.split(\",Toby,\") #splits by Toby\n",
    "\n",
    "print(officeNamesList)\n",
    "print(officeNamesList2)\n",
    "print(officeNamesList3)\n",
    "\n",
    "#if you leave split empty, it will split by whitespace\n",
    "#whitespace includes any spaces, tabs, or newlines (enters)\n",
    "#notice that the string below split at the spaces, at well as the \"\\n\" and \"\\t\"\n",
    "myString = \"Hello World!\\n I am ready to\\tcode!!!\"\n",
    "myList = myString.split()\n",
    "print(myList)"
   ]
  },
  {
   "cell_type": "code",
   "execution_count": 48,
   "metadata": {},
   "outputs": [
    {
     "name": "stdout",
     "output_type": "stream",
     "text": [
      "catdog\n",
      "Michael, Pam, Jim, Dwight, Angela, Kevin, Stanley, Toby, Andy, Kelly, Meredith, Oscar, Phyllis\n",
      "Michael and Pam and Jim and Dwight and Angela and Kevin and Stanley and Toby and Andy and Kelly and Meredith and Oscar and Phyllis\n"
     ]
    }
   ],
   "source": [
    "#JOINING STRINGS\n",
    "#remember how we stuck two strings together in a process called concatenation?\n",
    "print(\"cat\"+\"dog\")\n",
    "\n",
    "#you can also use join() to combine a bunch of strings at once,\n",
    "#connected by a common string\n",
    "#put the string you want to connect the others strings by,\n",
    "#then add a \".join()\" with the list of strings you want to join in the ()\n",
    "newOfficeNamesString = \", \".join(officeNamesList)\n",
    "print(newOfficeNamesString)\n",
    "\n",
    "newOfficeNamesString2 = \" and \".join(officeNamesList)\n",
    "print(newOfficeNamesString2)"
   ]
  },
  {
   "cell_type": "code",
   "execution_count": 56,
   "metadata": {},
   "outputs": [
    {
     "name": "stdout",
     "output_type": "stream",
     "text": [
      "True\n",
      "False\n",
      "\n",
      "True\n",
      "True\n",
      "False\n",
      "\n",
      "True\n",
      "True\n",
      "True\n",
      "True\n",
      "False\n",
      "\n",
      "True\n",
      "False\n",
      "\n",
      "True\n",
      "False\n",
      "True\n",
      "False\n",
      "\n"
     ]
    }
   ],
   "source": [
    "#SEARCHING FOR STRINGS\n",
    "#when searching through lists for a string, \n",
    "#you can check if the element of the list you are currently looking at\n",
    "#matches the string you are looking for\n",
    "print(officeNamesList[0] == \"Michael\") #officeNamesList[0] is \"Michael\" so print \"True\"\n",
    "print(officeNamesList[0] == \"Kelly\") #does not equal \"Kelly\" so print \"False\"\n",
    "print()\n",
    "\n",
    "#you can check if the string starts with something\n",
    "print(officeNamesList[4].startswith(\"An\")) #officeNamesList[4] is \"Angela\" so it does start with \"An\"\n",
    "print(officeNamesList[8].startswith(\"An\")) #officeNamesList[8] is \"Andy\" so it does start with \"An\"\n",
    "print(officeNamesList[12].startswith(\"An\")) #officeNamesList[12] is \"Phyllis\" which doesn't start with \"An\"\n",
    "print()\n",
    "\n",
    "#or ends with something\n",
    "print(officeNamesList[6].endswith(\"y\")) #officeNamesList[6] is \"Stanley\" so it does end with \"y\"\n",
    "print(officeNamesList[7].endswith(\"y\")) #officeNamesList[7] is \"Toby\" so it does end with \"y\"\n",
    "print(officeNamesList[8].endswith(\"y\")) #officeNamesList[8] is \"Andy\" so it does end with \"y\"\n",
    "print(officeNamesList[9].endswith(\"y\")) #officeNamesList[9] is \"Kelly\" so it does end with \"y\"\n",
    "print(officeNamesList[10].endswith(\"y\")) #officeNamesList[10] is \"Meredith\" so it doesn't end with \"y\"\n",
    "print()\n",
    "\n",
    "#remember how we could check if an element was in a list using in?\n",
    "print(\"Oscar\" in officeNamesList)\n",
    "print(\"Jan\" in officeNamesList)\n",
    "print()\n",
    "\n",
    "#we can check if a string is within a bigger string like this\n",
    "#this is useful when what you are searching for isn't at the start or end of the string like before\n",
    "print(\"Kevin\" in officeNamesString)\n",
    "print(\"Creed\" in officeNamesString)\n",
    "print(\"Dove\" in \"2045 Dove Creek Court\")\n",
    "print(\"Pigeon\" in \"2045 Dove Creek Court\")\n",
    "print()"
   ]
  },
  {
   "cell_type": "code",
   "execution_count": 13,
   "metadata": {},
   "outputs": [
    {
     "name": "stdout",
     "output_type": "stream",
     "text": [
      "Em\n",
      "Shaf\n",
      "Kazim\n"
     ]
    }
   ],
   "source": [
    "#DELETING FROM STRINGS\n",
    "#give a string, or the variable name of the string, then a dot\n",
    "#then strip() with the substring that you want to get rid of in the ()\n",
    "print(\"Emilia\".strip(\"ilia\"))\n",
    "\n",
    "#if the substring isn't in the string, it won't break like remove() and index() would with lists\n",
    "#it just won't do anything\n",
    "#but if there isn't an exact match, but part of the endings of the given strings match,\n",
    "#strip() will remove that commonality\n",
    "print(\"Shafa\".strip(\"ilia\"))\n",
    "print(\"Kazim\".strip(\"ilia\"))\n",
    "\n",
    "#if you use strip() with nothing in the (), \n",
    "#it will get rid of any extra whitespace at the end of the string"
   ]
  },
  {
   "cell_type": "code",
   "execution_count": 69,
   "metadata": {},
   "outputs": [
    {
     "name": "stdout",
     "output_type": "stream",
     "text": [
      "michael,pam,jim,dwight,angela,kevin,stanley,toby,andy,kelly,meredith,oscar,phyllis\n",
      "MICHAEL,PAM,JIM,DWIGHT,ANGELA,KEVIN,STANLEY,TOBY,ANDY,KELLY,MEREDITH,OSCAR,PHYLLIS\n"
     ]
    }
   ],
   "source": [
    "#CHANGING LETTER CASE\n",
    "#you can switch a string to all lowercase with lower()\n",
    "lowercaseString = officeNamesString.lower()\n",
    "print(lowercaseString)\n",
    "\n",
    "#or all uppercase with upper()\n",
    "uppercaseString = officeNamesString.upper()\n",
    "print(uppercaseString)"
   ]
  }
 ],
 "metadata": {
  "kernelspec": {
   "display_name": "Python 3",
   "language": "python",
   "name": "python3"
  },
  "language_info": {
   "codemirror_mode": {
    "name": "ipython",
    "version": 3
   },
   "file_extension": ".py",
   "mimetype": "text/x-python",
   "name": "python",
   "nbconvert_exporter": "python",
   "pygments_lexer": "ipython3",
   "version": "3.7.6"
  }
 },
 "nbformat": 4,
 "nbformat_minor": 4
}

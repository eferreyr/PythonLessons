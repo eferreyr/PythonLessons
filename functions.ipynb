{
 "cells": [
  {
   "cell_type": "code",
   "execution_count": 9,
   "metadata": {},
   "outputs": [
    {
     "name": "stdout",
     "output_type": "stream",
     "text": [
      "First Line Executed\n",
      "\n",
      "Shafa Hussain\n",
      "2045 Dove Creek Ct\n",
      "Lewisville, TX 75077\n",
      "\n"
     ]
    }
   ],
   "source": [
    "#fuctions are just a block of code, a set of instructions,\n",
    "#that you can use in multiple places in a program\n",
    "#this is a function that prints your address\n",
    "#you define a function with the word 'def' (short for define),\n",
    "#the name of the function, a set of (), and a colon. \n",
    "#when a line ends in a colon, it indications that a code block will start in the next line\n",
    "#think of if/elif/else, for, and while\n",
    "def myAddress():\n",
    "    print(\"Shafa Hussain\")\n",
    "    print(\"2045 Dove Creek Ct\")\n",
    "    print(\"Lewisville, TX 75077\")\n",
    "    print()\n",
    "\n",
    "#even though the function was defined before this print statement,\n",
    "#the line \"First Line Executed\" was, in fact, the first line executed.\n",
    "#when the computer sees a line that starts with \"def\", \n",
    "#it knows to skip the code block below it. \n",
    "#Therefore, \"First Line Executed\" is printed first.\n",
    "print(\"First Line Executed\")\n",
    "print()\n",
    "\n",
    "#the instructions under \"def printAddress():\" are only executed after you \"call the function.\"\n",
    "#a function call is when you put the name of the function somewhere else in the program like below.\n",
    "#printAddress() works kind of like how a variable does, \n",
    "#but instead of saving a value of some data type to the variable name,\n",
    "#you are saving a set of instructions to the function name. \n",
    "#The instructions under \"def printAddress():\" will never be executed if you never call the function\n",
    "#if you comment out the line below, the address will never print.\n",
    "myAddress()"
   ]
  },
  {
   "cell_type": "code",
   "execution_count": 2,
   "metadata": {},
   "outputs": [
    {
     "name": "stdout",
     "output_type": "stream",
     "text": [
      "Shafa Hussain\n",
      "2045 Dove Creek Ct\n",
      "Lewisville, TX 75077\n",
      "\n",
      "Shafa Hussain\n",
      "2045 Dove Creek Ct\n",
      "Lewisville, TX 75077\n",
      "\n",
      "Shafa Hussain\n",
      "2045 Dove Creek Ct\n",
      "Lewisville, TX 75077\n",
      "\n",
      "Shafa Hussain\n",
      "2045 Dove Creek Ct\n",
      "Lewisville, TX 75077\n",
      "\n",
      "Shafa Hussain\n",
      "2045 Dove Creek Ct\n",
      "Lewisville, TX 75077\n",
      "\n"
     ]
    }
   ],
   "source": [
    "#functions are useful when you want to execute the same set of instructions multiple times\n",
    "myAddress()\n",
    "myAddress()\n",
    "myAddress()\n",
    "myAddress()\n",
    "myAddress()\n"
   ]
  },
  {
   "cell_type": "code",
   "execution_count": 3,
   "metadata": {},
   "outputs": [
    {
     "name": "stdout",
     "output_type": "stream",
     "text": [
      "Shafa Hussain\n",
      "2045 Dove Creek Ct\n",
      "Lewisville, TX 75077\n",
      "\n",
      "Shafa Hussain\n",
      "2045 Dove Creek Ct\n",
      "Lewisville, TX 75077\n",
      "\n",
      "Shafa Hussain\n",
      "2045 Dove Creek Ct\n",
      "Lewisville, TX 75077\n",
      "\n",
      "Shafa Hussain\n",
      "2045 Dove Creek Ct\n",
      "Lewisville, TX 75077\n",
      "\n",
      "Shafa Hussain\n",
      "2045 Dove Creek Ct\n",
      "Lewisville, TX 75077\n",
      "\n"
     ]
    }
   ],
   "source": [
    "#but loops can do that too\n",
    "for i in range(5):\n",
    "    myAddress()"
   ]
  },
  {
   "cell_type": "code",
   "execution_count": 4,
   "metadata": {},
   "outputs": [
    {
     "name": "stdout",
     "output_type": "stream",
     "text": [
      "Here are some lines:\n",
      "\n",
      "\n",
      "\n",
      "Shafa Hussain\n",
      "2045 Dove Creek Ct\n",
      "Lewisville, TX 75077\n",
      "\n",
      "Shafa Hussain\n",
      "2045 Dove Creek Ct\n",
      "Lewisville, TX 75077\n",
      "\n",
      "Here are some more lines:\n",
      "\n",
      "\n",
      "Try doing this with a loop\n",
      "\n",
      "Shafa Hussain\n",
      "2045 Dove Creek Ct\n",
      "Lewisville, TX 75077\n",
      "\n",
      "it's kinda unpredictable\n",
      "\n",
      "Shafa Hussain\n",
      "2045 Dove Creek Ct\n",
      "Lewisville, TX 75077\n",
      "\n",
      "but there's no problem when using function calls\n",
      "\n",
      "Shafa Hussain\n",
      "2045 Dove Creek Ct\n",
      "Lewisville, TX 75077\n",
      "\n"
     ]
    }
   ],
   "source": [
    "#however, loops repeat the action in succession\n",
    "#functions are useful when I want to do the same thing, \n",
    "#but at different times and in different places.\n",
    "print(\"Here are some lines:\")\n",
    "print()\n",
    "print()\n",
    "print()\n",
    "myAddress()\n",
    "myAddress()\n",
    "print(\"Here are some more lines:\")\n",
    "print()\n",
    "print()\n",
    "print(\"Try doing this with a loop\")\n",
    "print()\n",
    "myAddress()\n",
    "print(\"it's kinda unpredictable\")\n",
    "print()\n",
    "myAddress()\n",
    "print(\"but there's no problem when using function calls\")\n",
    "print()\n",
    "myAddress()"
   ]
  },
  {
   "cell_type": "code",
   "execution_count": 11,
   "metadata": {},
   "outputs": [
    {
     "name": "stdout",
     "output_type": "stream",
     "text": [
      "Kazim\n",
      "2045 Dove Creek Ct\n",
      "Lewisville, TX 75077\n",
      "\n"
     ]
    }
   ],
   "source": [
    "#Now, all the reserved words you have been using with parenthesis at the end have been functions\n",
    "#there are blocks of code in the background of python that allow you to \n",
    "#print stuff, turn strings into decimal numbers or integers, sort, add to, and delete from lists,\n",
    "#split and join strings, wait for a period of time, randomly pick numbers, split strings into arrays,\n",
    "#join arrays into strings, create lists of all the keys and values of a dictionary, \n",
    "#check if a string starts or ends with a certain substring, cut off certain substrings, \n",
    "#change a string to all upper or lower case, find the square root of a number, \n",
    "#ask the user for an input, THE LIST GOES ON\n",
    "#think about how you use these functions at any point in the code\n",
    "#and imagine how you can create functions for yourself that work the same way\n",
    "\n",
    "#for many of these functions, you put values into the parenthesis. \n",
    "#this is called \"passing a value\" to a function. \n",
    "#the value that you pass into the function is a parameter or argument\n",
    "#technically there is a difference between the two, but they're really used interchangeably\n",
    "#you can do this to your function,\n",
    "#just initialize a variable by giving it a name in the () of your function definition\n",
    "#anything that is put in the parenthesis during the function call will be assigned to the variable \"myName\"\n",
    "def myAddress1(myName): \n",
    "    print(myName) #myName is used here, whatever was put in the () during the function call will be printed here\n",
    "    print(\"2045 Dove Creek Ct\")\n",
    "    print(\"Lewisville, TX 75077\")\n",
    "    print()\n",
    "\n",
    "myAddress1(\"Kazim\")"
   ]
  },
  {
   "cell_type": "code",
   "execution_count": 17,
   "metadata": {},
   "outputs": [
    {
     "name": "stdout",
     "output_type": "stream",
     "text": [
      "Tazeen Hussain\n",
      "2045 Dove Creek Ct\n",
      "Lewisville , TX 75077\n",
      "\n"
     ]
    }
   ],
   "source": [
    "#remember how some functions take multiple arguments and they aren't the same data type?\n",
    "#You can do this, too!\n",
    "def myAddress2(myName, houseNum, streetName, cityName, stateAbbrev, zipCode):\n",
    "    print(myName)\n",
    "    print(houseNum, streetName)\n",
    "    print(cityName, \",\", stateAbbrev, zipCode)\n",
    "    print()\n",
    "    \n",
    "myAddress2(\"Tazeen Hussain\", 2045, \"Dove Creek Ct\", \"Lewisville\", \"TX\", 75077)"
   ]
  },
  {
   "cell_type": "code",
   "execution_count": 18,
   "metadata": {},
   "outputs": [
    {
     "name": "stdout",
     "output_type": "stream",
     "text": [
      "Reza Hussain\n",
      "2045 Dove Creek Ct\n",
      "Lewisville , TX 75077\n",
      "\n"
     ]
    }
   ],
   "source": [
    "#but after three or four parameters, \n",
    "#you may want to consider switching to one parameter that takes in a list\n",
    "def myAddress3(myAddressList):\n",
    "    print(myAddressList[0])\n",
    "    print(myAddressList[1], myAddressList[2])\n",
    "    print(myAddressList[3],\",\", myAddressList[4], myAddressList[5])\n",
    "    print()\n",
    "    \n",
    "#the name of the parameter you pass into the function \n",
    "#does not have to be the name as the one initialized in the function definition.\n",
    "#whatever is passed into the function will be set equal to the variable \"myAddressList\"\n",
    "#regardless of its name before\n",
    "address = [\"Reza Hussain\", 2045, \"Dove Creek Ct\", \"Lewisville\", \"TX\", 75077]\n",
    "myAddress3(address)"
   ]
  },
  {
   "cell_type": "code",
   "execution_count": 20,
   "metadata": {},
   "outputs": [
    {
     "name": "stdout",
     "output_type": "stream",
     "text": [
      "Reza Hussain\n",
      "2045 Dove Creek Ct\n",
      "Lewisville , TX 75077\n",
      "\n",
      "Kazim\n",
      "2045 Dove Creek Ct\n",
      "Lewisville, TX 75077\n",
      "\n",
      "Shafa Hussain\n",
      "2045 Dove Creek Ct\n",
      "Lewisville, TX 75077\n",
      "\n",
      "Tazeen Hussain\n",
      "2045 Dove Creek Ct\n",
      "Lewisville , TX 75077\n",
      "\n"
     ]
    }
   ],
   "source": [
    "#all four of these functions can be used at any time in the program in any order\n",
    "myAddress3(address)\n",
    "myAddress1(\"Kazim\")\n",
    "myAddress()\n",
    "myAddress2(\"Tazeen Hussain\", 2045, \"Dove Creek Ct\", \"Lewisville\", \"TX\", 75077)\n",
    "\n",
    "#btw the official difference between parameter and argument\n",
    "#is that a parameter is naming of the values that will be passed into the () during the function definition\n",
    "#an argument is what you pass into the () during the function call"
   ]
  },
  {
   "cell_type": "code",
   "execution_count": 25,
   "metadata": {},
   "outputs": [
    {
     "name": "stdout",
     "output_type": "stream",
     "text": [
      "None\n",
      "[-8, -4, 3, 12, 29, 33, 51, 470]\n",
      "[-32, -15, -9, 0, 8, 17, 28, 44, 97]\n",
      "None\n",
      "[-3, 0, 10, 17, 23, 54, 66, 91]\n"
     ]
    }
   ],
   "source": [
    "num1 = [12,-4,3,470,33,29,51,-8]\n",
    "num2 = [44,28,17,97,-32,8,-9,0,-15]\n",
    "num3 = [72,50,1002,-93,2,-1,84]\n",
    "num4 = [23, 17,66,-3,0,10,54,91]\n",
    "#sort() is a static function. When it is applied to a list, it sorts it and then ends, without returning any value\n",
    "#this is why, when you try to print num.sort(), it says \"None\"\n",
    "print(num1.sort())\n",
    "\n",
    "#however, even though sort() doesn't return anything, num is now sorted and if you print that variable\n",
    "#you should see a sorted list\n",
    "print(num1)\n",
    "\n",
    "#sorted() on the other hand, takes in a list, makes a copy of it, sorts the copy,\n",
    "#leaving the original unchanged, and then returns a sorted list of the original\n",
    "#therefore, because there is a return value (the sorted list), there is a value being given to the () to print\n",
    "print(sorted(num2))\n",
    "\n",
    "#by the same logic, saving num3.sort() to a variable won't work because there is no value to save to the variable\n",
    "#in other words, the variable would be empty\n",
    "num3Sorted = num3.sort()\n",
    "print(num3Sorted)\n",
    "\n",
    "#but sorted returns a sorted list which can be saved to a variable\n",
    "num4Sorted = sorted(num4)\n",
    "print(num4Sorted)\n",
    "\n",
    "#can you think of some other examples of static and return functions?"
   ]
  },
  {
   "cell_type": "code",
   "execution_count": 2,
   "metadata": {},
   "outputs": [
    {
     "name": "stdout",
     "output_type": "stream",
     "text": [
      "$90.09\n"
     ]
    }
   ],
   "source": [
    "#lets create a return function\n",
    "#this function will calculate the total of something with tax\n",
    "#this function needs the price of the item and the tax rate to do this task\n",
    "def calculateTotalWithTax (price,tax):\n",
    "    total = price + (price*tax) #create a variable and set it equal to the total price with tax\n",
    "    return total #send the total back to the function call using return\n",
    "\n",
    "#this line of code uses the second method of string formatting \n",
    "#where i indicated that I would be using string formatting with an f before the string\n",
    "#I then typed \"$\" because we are printing a price and therefore needs a $ in front\n",
    "#then, within {}, instead of a variable or a value from a list, I put the function call\n",
    "#whatever the function returns will then be formatted as a decimal number with two decimal places\n",
    "print(f\"${calculateTotalWithTax(78.34,.15):.02f}\")"
   ]
  },
  {
   "cell_type": "code",
   "execution_count": 3,
   "metadata": {},
   "outputs": [
    {
     "name": "stdout",
     "output_type": "stream",
     "text": [
      "$10.01\n"
     ]
    }
   ],
   "source": [
    "#I now want to create a function that splits the cost of a meal between a given number of people\n",
    "#to do this, I need the price of the meal, the tax rate, and the number of people this amount is divided out amongst\n",
    "def splitCheck(price,tax,numOfPeople):\n",
    "    #the calculations can be done on the same line as the return statement\n",
    "    #the function will return the result of the calculations\n",
    "    #you can also have a function call inside of another function definition\n",
    "    #with this line, we pass the price and tax that was given in the splitCheck parameters into calculateTotalWithTax()\n",
    "    #then, when calculateTotalWithTax returns the total of the meal with tax,\n",
    "    #we divide this value by the number of people paying\n",
    "    #once we have calculated this value, we return it.\n",
    "    return calculateTotalWithTax(price,tax) / numOfPeople\n",
    "\n",
    "print(f\"${splitCheck(78.34,.15,9):.2f}\")\n",
    "\n",
    "#remember the concept of scope? How variables created within a block of code, only exists within that block\n",
    "#price, tax and numOfPeople have all been initialized in the splitCheck code block\n",
    "#therefore, if I try to print the variables price, tax or numOfPeople here\n",
    "#instead of the indented block they were created in, it will error\n",
    "#variables created in a smaller scope or embedded block of code, are called LOCAL VARIABLES\n",
    "#print(price,tax,numOfPeople)\n"
   ]
  },
  {
   "cell_type": "code",
   "execution_count": 10,
   "metadata": {},
   "outputs": [
    {
     "name": "stdout",
     "output_type": "stream",
     "text": [
      "Enter a price: 45.77\n",
      "Enter a tip percentage: .12\n",
      "my_price inside calculateTotalWithTip function: 1000\n",
      "The total price with tip is $51.26\n",
      "my_price outside the function: 45.77\n"
     ]
    }
   ],
   "source": [
    "#GLOBAL VARIABLES are variables with the largest scope (the exist throughout the whole program)\n",
    "#global variables are initialized at the top of the program because variables initialized \n",
    "#halfway through can't be used in the half of the program before it was created\n",
    "#num1,num2,num3, and num4 were all global variables\n",
    "\n",
    "#global variables can be used anywhere in the program,\n",
    "#but if you change it locally (within a smaller code block), \n",
    "#the change will only last to the end of the code block that the change was made in.\n",
    "def calculateTotalWithTip(price, tip):\n",
    "    #initialize total variable and set equal to sum of price before tip and calculated tip\n",
    "    total = price + (price*tip)\n",
    "    \n",
    "    #these next two lines of code don't have anything to do with calculating tip,\n",
    "    #but we are changing the global variable my_price locally (within the function) to 1000\n",
    "    #we print my_price and indicate that we are printing it inside the function \n",
    "    my_price = 1000\n",
    "    print(\"my_price inside calculateTotalWithTip function:\",my_price)\n",
    "    \n",
    "    #return the total and end the function execution\n",
    "    return total\n",
    "\n",
    "#initialize my_price and set it equal to the user input converted to a float\n",
    "#initializing my_price here makes it a global variable \n",
    "#even though it isn't physically at the top of the code.\n",
    "#remember that even though the function definition is on top,\n",
    "#it won't be executed until there's a function call.\n",
    "#therefore, my_price's intialization is the fist line executed\n",
    "#and thus, essentially at the top of the program\n",
    "my_price = float(input(\"Enter a price: \"))\n",
    "\n",
    "#initialize my_tip and set it equal to the user input converted to a float\n",
    "my_tip = float(input(\"Enter a tip percentage: \"))\n",
    "\n",
    "#initialize totalPrice and set it equal to the value returned by calculateTotalWithTip\n",
    "#pass my_price and my_tip into the function\n",
    "#the locally modified my_price should print while this function is executed\n",
    "totalPrice = calculateTotalWithTip(my_price,my_tip)\n",
    "\n",
    "#print total price with string formatting to show dollar price\n",
    "print(\"The total price with tip is $%.2f\"%totalPrice)\n",
    "\n",
    "#print my_price after we run the function \n",
    "#so we see if the change we made to my_price inside the function \n",
    "#stayed when we finished executing the function.\n",
    "#if it did stay, my_price should be 1000\n",
    "#if it didn't, my_price should still be what the user inputted\n",
    "print(\"my_price outside the function:\",my_price)\n",
    "\n"
   ]
  },
  {
   "cell_type": "code",
   "execution_count": 13,
   "metadata": {},
   "outputs": [
    {
     "name": "stdout",
     "output_type": "stream",
     "text": [
      "Enter the bill:54.32\n",
      "Enter the tip:.15\n",
      "my_bill inside function: 1000\n",
      "The total bill is $62.47\n",
      "my_bill outside function:  1000\n",
      "total from inside function:  62.468\n"
     ]
    }
   ],
   "source": [
    "#but you can make a local change of a global variable a global one\n",
    "#you can even initialize a local variable and turn it into a global one\n",
    "#you do this by putting global before the variable name.\n",
    "#this lets the computer know that if a global variable already exists,\n",
    "#you want the change you made locally to be applied globally.\n",
    "#and if the variable was initialized locally, tells the computer\n",
    "#that is can be used globally (outside of the function it was made in)\n",
    "def calculateTip2(bill, tip):\n",
    "    #initialize total and make it global\n",
    "    global total\n",
    "    total = bill + (bill*tip)\n",
    "    \n",
    "    #this local change to my_bill will be applied globally\n",
    "    global my_bill\n",
    "    my_bill = 1000\n",
    "    \n",
    "    #regardless of whether my_bill was made global or not, \n",
    "    #this will print my_bill as 1000\n",
    "    #because this print statement is inside the same block of code\n",
    "    #that the change to my_bill was made in\n",
    "    print(\"my_bill inside function:\",my_bill)\n",
    "    return total\n",
    "\n",
    "my_bill = float(input(\"Enter the bill:\"))\n",
    "my_tip = float(input(\"Enter the tip:\"))\n",
    "\n",
    "print(\"The total bill is $%.2f\"%calculateTip2(my_bill,my_tip))\n",
    "\n",
    "#print my_price after we run the function \n",
    "#so we see if the change we made to my_price inside the function \n",
    "#stayed when we finished executing the function.\n",
    "#if it did stay, my_price should be 1000\n",
    "#if it didn't, my_price should still be what the user inputted\n",
    "print(\"my_bill outside function: \",my_bill)\n",
    "\n",
    "#a variable with the name \"total\" was never initialized outside of an embedded code block\n",
    "#but because we used \"global\", total should be initialized globally\n",
    "print(\"total from inside function: \",total)"
   ]
  }
 ],
 "metadata": {
  "kernelspec": {
   "display_name": "Python 3",
   "language": "python",
   "name": "python3"
  },
  "language_info": {
   "codemirror_mode": {
    "name": "ipython",
    "version": 3
   },
   "file_extension": ".py",
   "mimetype": "text/x-python",
   "name": "python",
   "nbconvert_exporter": "python",
   "pygments_lexer": "ipython3",
   "version": "3.7.6"
  }
 },
 "nbformat": 4,
 "nbformat_minor": 4
}

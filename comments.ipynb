{
 "cells": [
  {
   "cell_type": "code",
   "execution_count": 1,
   "metadata": {},
   "outputs": [
    {
     "name": "stdout",
     "output_type": "stream",
     "text": [
      "This isn't a comment\n",
      "World\n"
     ]
    }
   ],
   "source": [
    "#This is a comment\n",
    "print(\"This isn't a comment\") #This is also a comment, but at the end of the line\n",
    "\n",
    "##############\n",
    "#Multi-line comments,\n",
    "#especially the ones that are paragraphs long,\n",
    "#are marked with a '#' at the beginning of each line\n",
    "# and the lines before and after the commented paragraph\n",
    "# are marked with a \"########\" or \"*********\".\n",
    "#this is a matter of style. \n",
    "#All conventions of comments are a matter of style\n",
    "#because the comments don't affect the code\n",
    "###############\n",
    "\n",
    "#commenting out- temporarily making a line of code a comment so that it doesn't execute\n",
    "#print(\"Hello\")\n",
    "print(\"World\")\n"
   ]
  },
  {
   "cell_type": "code",
   "execution_count": null,
   "metadata": {},
   "outputs": [],
   "source": []
  }
 ],
 "metadata": {
  "kernelspec": {
   "display_name": "Python 3",
   "language": "python",
   "name": "python3"
  },
  "language_info": {
   "codemirror_mode": {
    "name": "ipython",
    "version": 3
   },
   "file_extension": ".py",
   "mimetype": "text/x-python",
   "name": "python",
   "nbconvert_exporter": "python",
   "pygments_lexer": "ipython3",
   "version": "3.7.6"
  }
 },
 "nbformat": 4,
 "nbformat_minor": 4
}
